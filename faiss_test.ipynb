{
  "nbformat": 4,
  "nbformat_minor": 0,
  "metadata": {
    "colab": {
      "name": "faiss_test.ipynb",
      "provenance": [],
      "authorship_tag": "ABX9TyN6PzY4J9sOQfHRY4IIxeyt",
      "include_colab_link": true
    },
    "kernelspec": {
      "name": "python3",
      "display_name": "Python 3"
    }
  },
  "cells": [
    {
      "cell_type": "markdown",
      "metadata": {
        "id": "view-in-github",
        "colab_type": "text"
      },
      "source": [
        "<a href=\"https://colab.research.google.com/github/takky0330/ChatBot/blob/master/faiss_test.ipynb\" target=\"_parent\"><img src=\"https://colab.research.google.com/assets/colab-badge.svg\" alt=\"Open In Colab\"/></a>"
      ]
    },
    {
      "cell_type": "markdown",
      "metadata": {
        "id": "lC_WjuaZkFkq"
      },
      "source": [
        "#準備"
      ]
    },
    {
      "cell_type": "code",
      "metadata": {
        "id": "0N0MOBxGj9fH",
        "outputId": "383d1bca-c911-4688-e2eb-e73348015ae4",
        "colab": {
          "base_uri": "https://localhost:8080/",
          "height": 99
        }
      },
      "source": [
        "## MeCab のバージョンを合わせる\n",
        "!pip3 install mecab-python3==0.996.5"
      ],
      "execution_count": 1,
      "outputs": [
        {
          "output_type": "stream",
          "text": [
            "Collecting mecab-python3==0.996.5\n",
            "\u001b[?25l  Downloading https://files.pythonhosted.org/packages/18/49/b55a839a77189042960bf96490640c44816073f917d489acbc5d79fa5cc3/mecab_python3-0.996.5-cp36-cp36m-manylinux2010_x86_64.whl (17.1MB)\n",
            "\u001b[K     |████████████████████████████████| 17.1MB 232kB/s \n",
            "\u001b[?25hInstalling collected packages: mecab-python3\n",
            "Successfully installed mecab-python3-0.996.5\n"
          ],
          "name": "stdout"
        }
      ]
    },
    {
      "cell_type": "code",
      "metadata": {
        "id": "WfYX0VjqvTq8",
        "outputId": "801ae169-3fde-4989-f504-6759917b48b2",
        "colab": {
          "base_uri": "https://localhost:8080/",
          "height": 1000
        }
      },
      "source": [
        "## 以下の２つのバージョンを合わせる必要がある 2020/10/27\n",
        "!pip3 install datascience==0.8.2\n",
        "!pip3 install urllib3==1.25.4"
      ],
      "execution_count": 2,
      "outputs": [
        {
          "output_type": "stream",
          "text": [
            "Collecting datascience==0.8.2\n",
            "  Downloading https://files.pythonhosted.org/packages/93/37/fa342d361a3cbb76d8808c5b89eb159e99628bebd861fb3bdd27ed4ff5b7/datascience-0.8.2.tar.gz\n",
            "Collecting folium==0.1.5\n",
            "\u001b[?25l  Downloading https://files.pythonhosted.org/packages/1a/61/39cf57df965026a1ed1f3e71b1363923408201ee53848134a1f4f8c787d5/folium-0.1.5.tar.gz (41kB)\n",
            "\u001b[K     |████████████████████████████████| 51kB 3.0MB/s \n",
            "\u001b[?25hRequirement already satisfied: sphinx in /usr/local/lib/python3.6/dist-packages (from datascience==0.8.2) (1.8.5)\n",
            "Requirement already satisfied: setuptools in /usr/local/lib/python3.6/dist-packages (from datascience==0.8.2) (50.3.0)\n",
            "Requirement already satisfied: pytest in /usr/local/lib/python3.6/dist-packages (from datascience==0.8.2) (3.6.4)\n",
            "Requirement already satisfied: coverage==3.7.1 in /usr/local/lib/python3.6/dist-packages (from datascience==0.8.2) (3.7.1)\n",
            "Requirement already satisfied: coveralls==0.5 in /usr/local/lib/python3.6/dist-packages (from datascience==0.8.2) (0.5)\n",
            "Requirement already satisfied: Pygments>=2.0 in /usr/local/lib/python3.6/dist-packages (from sphinx->datascience==0.8.2) (2.6.1)\n",
            "Requirement already satisfied: docutils>=0.11 in /usr/local/lib/python3.6/dist-packages (from sphinx->datascience==0.8.2) (0.16)\n",
            "Requirement already satisfied: packaging in /usr/local/lib/python3.6/dist-packages (from sphinx->datascience==0.8.2) (20.4)\n",
            "Requirement already satisfied: requests>=2.0.0 in /usr/local/lib/python3.6/dist-packages (from sphinx->datascience==0.8.2) (2.23.0)\n",
            "Requirement already satisfied: six>=1.5 in /usr/local/lib/python3.6/dist-packages (from sphinx->datascience==0.8.2) (1.15.0)\n",
            "Requirement already satisfied: snowballstemmer>=1.1 in /usr/local/lib/python3.6/dist-packages (from sphinx->datascience==0.8.2) (2.0.0)\n",
            "Requirement already satisfied: sphinxcontrib-websupport in /usr/local/lib/python3.6/dist-packages (from sphinx->datascience==0.8.2) (1.2.4)\n",
            "Requirement already satisfied: babel!=2.0,>=1.3 in /usr/local/lib/python3.6/dist-packages (from sphinx->datascience==0.8.2) (2.8.0)\n",
            "Requirement already satisfied: Jinja2>=2.3 in /usr/local/lib/python3.6/dist-packages (from sphinx->datascience==0.8.2) (2.11.2)\n",
            "Requirement already satisfied: alabaster<0.8,>=0.7 in /usr/local/lib/python3.6/dist-packages (from sphinx->datascience==0.8.2) (0.7.12)\n",
            "Requirement already satisfied: imagesize in /usr/local/lib/python3.6/dist-packages (from sphinx->datascience==0.8.2) (1.2.0)\n",
            "Requirement already satisfied: attrs>=17.4.0 in /usr/local/lib/python3.6/dist-packages (from pytest->datascience==0.8.2) (20.2.0)\n",
            "Requirement already satisfied: pluggy<0.8,>=0.5 in /usr/local/lib/python3.6/dist-packages (from pytest->datascience==0.8.2) (0.7.1)\n",
            "Requirement already satisfied: py>=1.5.0 in /usr/local/lib/python3.6/dist-packages (from pytest->datascience==0.8.2) (1.9.0)\n",
            "Requirement already satisfied: more-itertools>=4.0.0 in /usr/local/lib/python3.6/dist-packages (from pytest->datascience==0.8.2) (8.5.0)\n",
            "Requirement already satisfied: atomicwrites>=1.0 in /usr/local/lib/python3.6/dist-packages (from pytest->datascience==0.8.2) (1.4.0)\n",
            "Requirement already satisfied: PyYAML>=3.10 in /usr/local/lib/python3.6/dist-packages (from coveralls==0.5->datascience==0.8.2) (3.13)\n",
            "Requirement already satisfied: docopt>=0.6.1 in /usr/local/lib/python3.6/dist-packages (from coveralls==0.5->datascience==0.8.2) (0.6.2)\n",
            "Requirement already satisfied: pyparsing>=2.0.2 in /usr/local/lib/python3.6/dist-packages (from packaging->sphinx->datascience==0.8.2) (2.4.7)\n",
            "Requirement already satisfied: urllib3!=1.25.0,!=1.25.1,<1.26,>=1.21.1 in /usr/local/lib/python3.6/dist-packages (from requests>=2.0.0->sphinx->datascience==0.8.2) (1.24.3)\n",
            "Requirement already satisfied: idna<3,>=2.5 in /usr/local/lib/python3.6/dist-packages (from requests>=2.0.0->sphinx->datascience==0.8.2) (2.10)\n",
            "Requirement already satisfied: chardet<4,>=3.0.2 in /usr/local/lib/python3.6/dist-packages (from requests>=2.0.0->sphinx->datascience==0.8.2) (3.0.4)\n",
            "Requirement already satisfied: certifi>=2017.4.17 in /usr/local/lib/python3.6/dist-packages (from requests>=2.0.0->sphinx->datascience==0.8.2) (2020.6.20)\n",
            "Requirement already satisfied: sphinxcontrib-serializinghtml in /usr/local/lib/python3.6/dist-packages (from sphinxcontrib-websupport->sphinx->datascience==0.8.2) (1.1.4)\n",
            "Requirement already satisfied: pytz>=2015.7 in /usr/local/lib/python3.6/dist-packages (from babel!=2.0,>=1.3->sphinx->datascience==0.8.2) (2018.9)\n",
            "Requirement already satisfied: MarkupSafe>=0.23 in /usr/local/lib/python3.6/dist-packages (from Jinja2>=2.3->sphinx->datascience==0.8.2) (1.1.1)\n",
            "Building wheels for collected packages: datascience, folium\n",
            "  Building wheel for datascience (setup.py) ... \u001b[?25l\u001b[?25hdone\n",
            "  Created wheel for datascience: filename=datascience-0.8.2-cp36-none-any.whl size=35132 sha256=01bf0570a05b0bdc16efaecf02249e3442a014500a26c4c592d08e9a271b60d9\n",
            "  Stored in directory: /root/.cache/pip/wheels/17/6d/e5/152e25e07bb36318f732d51057a1c87cf27234c8761c31b47b\n",
            "  Building wheel for folium (setup.py) ... \u001b[?25l\u001b[?25hdone\n",
            "  Created wheel for folium: filename=folium-0.1.5-cp36-none-any.whl size=52135 sha256=a740eddddb0071c053734dab86e8b82a7a8fa20aec53e7442ddc8b66a558ac46\n",
            "  Stored in directory: /root/.cache/pip/wheels/c5/7b/cd/9586eb599f3fcc6fb87edb5f70a595ce1f96fb797412a47c45\n",
            "Successfully built datascience folium\n",
            "Installing collected packages: folium, datascience\n",
            "  Found existing installation: folium 0.8.3\n",
            "    Uninstalling folium-0.8.3:\n",
            "      Successfully uninstalled folium-0.8.3\n",
            "  Found existing installation: datascience 0.10.6\n",
            "    Uninstalling datascience-0.10.6:\n",
            "      Successfully uninstalled datascience-0.10.6\n",
            "Successfully installed datascience-0.8.2 folium-0.1.5\n",
            "Collecting urllib3==1.25.4\n",
            "\u001b[?25l  Downloading https://files.pythonhosted.org/packages/91/0d/7777358f672a14b7ae0dfcd29f949f409f913e0578190d6bfa68eb55864b/urllib3-1.25.4-py2.py3-none-any.whl (125kB)\n",
            "\u001b[K     |████████████████████████████████| 133kB 2.9MB/s \n",
            "\u001b[?25hInstalling collected packages: urllib3\n",
            "  Found existing installation: urllib3 1.24.3\n",
            "    Uninstalling urllib3-1.24.3:\n",
            "      Successfully uninstalled urllib3-1.24.3\n",
            "Successfully installed urllib3-1.25.4\n"
          ],
          "name": "stdout"
        }
      ]
    },
    {
      "cell_type": "code",
      "metadata": {
        "id": "LAmdeQuqkH6V",
        "outputId": "e3fcefd3-084d-4695-cba5-ab6644d5b878",
        "colab": {
          "base_uri": "https://localhost:8080/",
          "height": 891
        }
      },
      "source": [
        "!git clone https://github.com/sonoisa/sentence-transformers\n",
        "!cd sentence-transformers; pip install -r requirements.txt"
      ],
      "execution_count": 3,
      "outputs": [
        {
          "output_type": "stream",
          "text": [
            "Cloning into 'sentence-transformers'...\n",
            "remote: Enumerating objects: 707, done.\u001b[K\n",
            "remote: Total 707 (delta 0), reused 0 (delta 0), pack-reused 707\u001b[K\n",
            "Receiving objects: 100% (707/707), 196.65 KiB | 4.92 MiB/s, done.\n",
            "Resolving deltas: 100% (476/476), done.\n",
            "Collecting transformers==2.3.0\n",
            "\u001b[?25l  Downloading https://files.pythonhosted.org/packages/50/10/aeefced99c8a59d828a92cc11d213e2743212d3641c87c82d61b035a7d5c/transformers-2.3.0-py3-none-any.whl (447kB)\n",
            "\u001b[K     |████████████████████████████████| 450kB 2.7MB/s \n",
            "\u001b[?25hRequirement already satisfied: tqdm in /usr/local/lib/python3.6/dist-packages (from -r requirements.txt (line 2)) (4.41.1)\n",
            "Requirement already satisfied: torch>=1.0.1 in /usr/local/lib/python3.6/dist-packages (from -r requirements.txt (line 3)) (1.6.0+cu101)\n",
            "Requirement already satisfied: numpy in /usr/local/lib/python3.6/dist-packages (from -r requirements.txt (line 4)) (1.18.5)\n",
            "Requirement already satisfied: scikit-learn in /usr/local/lib/python3.6/dist-packages (from -r requirements.txt (line 5)) (0.22.2.post1)\n",
            "Requirement already satisfied: scipy in /usr/local/lib/python3.6/dist-packages (from -r requirements.txt (line 6)) (1.4.1)\n",
            "Requirement already satisfied: nltk in /usr/local/lib/python3.6/dist-packages (from -r requirements.txt (line 7)) (3.2.5)\n",
            "Requirement already satisfied: mecab-python3 in /usr/local/lib/python3.6/dist-packages (from -r requirements.txt (line 8)) (0.996.5)\n",
            "Requirement already satisfied: requests in /usr/local/lib/python3.6/dist-packages (from transformers==2.3.0->-r requirements.txt (line 1)) (2.23.0)\n",
            "Collecting boto3\n",
            "\u001b[?25l  Downloading https://files.pythonhosted.org/packages/83/c2/1d4ccb8d0772b37d2f5d14e784babbf6a51aca6dd2786da842cd912e98b4/boto3-1.16.5.tar.gz (97kB)\n",
            "\u001b[K     |████████████████████████████████| 102kB 7.4MB/s \n",
            "\u001b[?25hRequirement already satisfied: regex!=2019.12.17 in /usr/local/lib/python3.6/dist-packages (from transformers==2.3.0->-r requirements.txt (line 1)) (2019.12.20)\n",
            "Collecting sentencepiece\n",
            "\u001b[?25l  Downloading https://files.pythonhosted.org/packages/e5/2d/6d4ca4bef9a67070fa1cac508606328329152b1df10bdf31fb6e4e727894/sentencepiece-0.1.94-cp36-cp36m-manylinux2014_x86_64.whl (1.1MB)\n",
            "\u001b[K     |████████████████████████████████| 1.1MB 8.7MB/s \n",
            "\u001b[?25hCollecting sacremoses\n",
            "\u001b[?25l  Downloading https://files.pythonhosted.org/packages/7d/34/09d19aff26edcc8eb2a01bed8e98f13a1537005d31e95233fd48216eed10/sacremoses-0.0.43.tar.gz (883kB)\n",
            "\u001b[K     |████████████████████████████████| 890kB 18.7MB/s \n",
            "\u001b[?25hRequirement already satisfied: future in /usr/local/lib/python3.6/dist-packages (from torch>=1.0.1->-r requirements.txt (line 3)) (0.16.0)\n",
            "Requirement already satisfied: joblib>=0.11 in /usr/local/lib/python3.6/dist-packages (from scikit-learn->-r requirements.txt (line 5)) (0.17.0)\n",
            "Requirement already satisfied: six in /usr/local/lib/python3.6/dist-packages (from nltk->-r requirements.txt (line 7)) (1.15.0)\n",
            "Requirement already satisfied: urllib3!=1.25.0,!=1.25.1,<1.26,>=1.21.1 in /usr/local/lib/python3.6/dist-packages (from requests->transformers==2.3.0->-r requirements.txt (line 1)) (1.25.4)\n",
            "Requirement already satisfied: certifi>=2017.4.17 in /usr/local/lib/python3.6/dist-packages (from requests->transformers==2.3.0->-r requirements.txt (line 1)) (2020.6.20)\n",
            "Requirement already satisfied: idna<3,>=2.5 in /usr/local/lib/python3.6/dist-packages (from requests->transformers==2.3.0->-r requirements.txt (line 1)) (2.10)\n",
            "Requirement already satisfied: chardet<4,>=3.0.2 in /usr/local/lib/python3.6/dist-packages (from requests->transformers==2.3.0->-r requirements.txt (line 1)) (3.0.4)\n",
            "Collecting botocore<1.20.0,>=1.19.5\n",
            "\u001b[?25l  Downloading https://files.pythonhosted.org/packages/59/91/c3ac686983570cbaf01063956e51ebd547d2e496f3e33052b7a9102c9a75/botocore-1.19.5-py2.py3-none-any.whl (6.7MB)\n",
            "\u001b[K     |████████████████████████████████| 6.7MB 19.1MB/s \n",
            "\u001b[?25hCollecting jmespath<1.0.0,>=0.7.1\n",
            "  Downloading https://files.pythonhosted.org/packages/07/cb/5f001272b6faeb23c1c9e0acc04d48eaaf5c862c17709d20e3469c6e0139/jmespath-0.10.0-py2.py3-none-any.whl\n",
            "Collecting s3transfer<0.4.0,>=0.3.0\n",
            "\u001b[?25l  Downloading https://files.pythonhosted.org/packages/69/79/e6afb3d8b0b4e96cefbdc690f741d7dd24547ff1f94240c997a26fa908d3/s3transfer-0.3.3-py2.py3-none-any.whl (69kB)\n",
            "\u001b[K     |████████████████████████████████| 71kB 9.4MB/s \n",
            "\u001b[?25hRequirement already satisfied: click in /usr/local/lib/python3.6/dist-packages (from sacremoses->transformers==2.3.0->-r requirements.txt (line 1)) (7.1.2)\n",
            "Requirement already satisfied: python-dateutil<3.0.0,>=2.1 in /usr/local/lib/python3.6/dist-packages (from botocore<1.20.0,>=1.19.5->boto3->transformers==2.3.0->-r requirements.txt (line 1)) (2.8.1)\n",
            "Building wheels for collected packages: boto3, sacremoses\n",
            "  Building wheel for boto3 (setup.py) ... \u001b[?25l\u001b[?25hdone\n",
            "  Created wheel for boto3: filename=boto3-1.16.5-py2.py3-none-any.whl size=127848 sha256=6ed6ef2c1b84a23bff13964ba855a8796a1af96f7b0eb531906fde16068623c3\n",
            "  Stored in directory: /root/.cache/pip/wheels/d7/97/d4/f4d6f53ae90487aff4f41a7f8f281ae114d5b2f0f64928f6e1\n",
            "  Building wheel for sacremoses (setup.py) ... \u001b[?25l\u001b[?25hdone\n",
            "  Created wheel for sacremoses: filename=sacremoses-0.0.43-cp36-none-any.whl size=893257 sha256=2f15baa171b45e8612a9468735621309562cf950be9d255162fa63b2df36c40c\n",
            "  Stored in directory: /root/.cache/pip/wheels/29/3c/fd/7ce5c3f0666dab31a50123635e6fb5e19ceb42ce38d4e58f45\n",
            "Successfully built boto3 sacremoses\n",
            "Installing collected packages: jmespath, botocore, s3transfer, boto3, sentencepiece, sacremoses, transformers\n",
            "Successfully installed boto3-1.16.5 botocore-1.19.5 jmespath-0.10.0 s3transfer-0.3.3 sacremoses-0.0.43 sentencepiece-0.1.94 transformers-2.3.0\n"
          ],
          "name": "stdout"
        }
      ]
    },
    {
      "cell_type": "code",
      "metadata": {
        "id": "bPB2JPdykVOB",
        "outputId": "03a8b74e-d394-4867-db56-29f833384aa1",
        "colab": {
          "base_uri": "https://localhost:8080/",
          "height": 429
        }
      },
      "source": [
        "!wget -O sonobe-datasets-sentence-transformers-model.tar \"https://www.floydhub.com/api/v1/resources/JLTtbaaK5dprnxoJtUbBbi?content=true&download=true&rename=sonobe-datasets-sentence-transformers-model-2\"\n",
        "!tar -xvf sonobe-datasets-sentence-transformers-model.tar"
      ],
      "execution_count": 4,
      "outputs": [
        {
          "output_type": "stream",
          "text": [
            "--2020-10-27 11:52:43--  https://www.floydhub.com/api/v1/resources/JLTtbaaK5dprnxoJtUbBbi?content=true&download=true&rename=sonobe-datasets-sentence-transformers-model-2\n",
            "Resolving www.floydhub.com (www.floydhub.com)... 172.67.72.144, 104.26.0.30, 104.26.1.30, ...\n",
            "Connecting to www.floydhub.com (www.floydhub.com)|172.67.72.144|:443... connected.\n",
            "HTTP request sent, awaiting response... 200 OK\n",
            "Length: unspecified [application/tar]\n",
            "Saving to: ‘sonobe-datasets-sentence-transformers-model.tar’\n",
            "\n",
            "sonobe-datasets-sen     [           <=>      ] 422.28M  22.1MB/s    in 19s     \n",
            "\n",
            "2020-10-27 11:53:03 (21.7 MB/s) - ‘sonobe-datasets-sentence-transformers-model.tar’ saved [442788352]\n",
            "\n",
            "./\n",
            "./training_bert_japanese/\n",
            "./training_bert_japanese/0_BERTJapanese/\n",
            "./training_bert_japanese/0_BERTJapanese/added_tokens.json\n",
            "./training_bert_japanese/0_BERTJapanese/config.json\n",
            "./training_bert_japanese/0_BERTJapanese/pytorch_model.bin\n",
            "./training_bert_japanese/0_BERTJapanese/sentence_bert_config.json\n",
            "./training_bert_japanese/0_BERTJapanese/special_tokens_map.json\n",
            "./training_bert_japanese/0_BERTJapanese/tokenizer_config.json\n",
            "./training_bert_japanese/0_BERTJapanese/vocab.txt\n",
            "./training_bert_japanese/1_Pooling/\n",
            "./training_bert_japanese/1_Pooling/config.json\n",
            "./training_bert_japanese/config.json\n",
            "./training_bert_japanese/modules.json\n"
          ],
          "name": "stdout"
        }
      ]
    },
    {
      "cell_type": "code",
      "metadata": {
        "id": "XkValKs9kybx",
        "outputId": "a081bf69-682a-47e7-c19f-8c1b755d544d",
        "colab": {
          "base_uri": "https://localhost:8080/",
          "height": 33
        }
      },
      "source": [
        "%cd sentence-transformers"
      ],
      "execution_count": 5,
      "outputs": [
        {
          "output_type": "stream",
          "text": [
            "/content/sentence-transformers\n"
          ],
          "name": "stdout"
        }
      ]
    },
    {
      "cell_type": "code",
      "metadata": {
        "id": "O0jdu_ANlX_C"
      },
      "source": [
        "%tensorflow_version 2.x\n",
        "from sentence_transformers import SentenceTransformer\n",
        "import numpy as np\n",
        "\n",
        "model_path = \"/content/training_bert_japanese\"\n",
        "model = SentenceTransformer(model_path, show_progress_bar=False)"
      ],
      "execution_count": 6,
      "outputs": []
    },
    {
      "cell_type": "markdown",
      "metadata": {
        "id": "9DO05YUD6DDI"
      },
      "source": [
        "#検索対象の embed"
      ]
    },
    {
      "cell_type": "code",
      "metadata": {
        "id": "ihM1xo8ulhqu"
      },
      "source": [
        "sentences = [\"お辞儀をしている男性会社員\", \"笑い袋\", \"テクニカルエバンジェリスト（女性）\", \"戦うAI\", \"笑う男性（5段階）\", \n",
        "\"漫才師\", \"お辞儀をしている医者（女性）\", \"お辞儀をしている薬剤師\", \"福笑いをしている人\", \"AIの家族\", \"コント師\", \n",
        "\"福笑い（女性）\", \"お辞儀をしている犬\", \"苦笑いをする女性\", \"お辞儀をしている医者\", \"いろいろな漫符\", \n",
        "\"雛人形「仕丁・三人上戸」\", \"ダンス「踊る男性」\", \"拍手をしている人\", \"定年（男性）\", \"ものまね芸人\", \"福笑いのおたふく\", \n",
        "\"お辞儀をしている看護師（男性）\", \"愛想笑い\", \"福笑い（ひょっとこ）\", \"成長する人工知能\", \"苦笑いをする男性\", \n",
        "\"運動会「徒競走・白組」\", \"人工知能と喧嘩をする人\", \"人工知能\", \"ありがた迷惑\", \"お辞儀をしているクマ\", \"笑う女性（5段階）\", \n",
        "\"人工知能とメールをする人（男性）\", \"技術書\", \"笑いをこらえる人（女性）\", \"ダンス「踊る女性」\", \"お辞儀をしている猫\", \n",
        "\"福笑い（男性）\", \"武器を持つAI\", \"作曲する人工知能\", \"縄跳びを飛んでいる女性\", \"福笑い（おかめ）\", \"茅の輪くぐり\", \"表情\", \n",
        "\"AIと仲良くなる人間\", \"お笑い芸人「漫才師」\", \"人工知能とメールをする人（女性）\", \"人工知能と戦う囲碁の棋士\", \"拍手している女の子\", \n",
        "\"検索する人工知能\", \"ピースサインを出す人（女性）\", \"啓示を受けた人（女性）\", \"仕事をする人工知能\", \"一輪車に乗る女の子\", \n",
        "\"お辞儀をしているウサギ\", \"走る猫（笑顔）\", \"人工知能と戦う将棋の棋士\", \"遠足「お弁当・男の子・女の子」\", \"心を持ったAI\", \n",
        "\"プレゼントをもらって喜ぶ女の子\", \"技術書（バラバラ）\", \"いろいろな表情の酔っぱらい（男性）\", \"拍手している人（棒人間）\", \n",
        "\"仕事を奪う人工知能\", \"文章を書く人工知能\", \"いろいろな映画の「つづく」\", \"絵を描く人工知能\", \"拍手している男の子\", \"ハリセン\", \n",
        "\"人工知能と仲良くする人たち\", \"ON AIRランプ\", \"いろいろな表情の酔っぱらい（女性）\", \"徹夜明けの笑顔（女性）\", \n",
        "\"徹夜明けの笑顔（男性）\", \"お辞儀をしている女性会社員\", \"バンザイをしているお婆さん\", \"画像認識をするAI\", \n",
        "\"芸人の男の子（将来の夢）\", \"料理「女性」\", \"ピコピコハンマー\", \"鏡を見る人（笑顔の男性）\", \"笑いをこらえる人（男性）\", \n",
        "\"シンギュラリティ\", \"人工知能に仕事を任せる人\", \"スマートスピーカー\", \"学ぶ人工知能\", \"人工知能・AI\", \"英語のアルファベット\", \n",
        "\"お金を見つめてニヤけている男性\", \"「ありがとう」と言っている人\", \"定年（女性）\", \"テクニカルエバンジェリスト（男性）\", \n",
        "\"スタンディングオベーション\"]\n",
        "\n",
        "queries = [\"武器を持つAI\", '暴走したAI', '暴走した人工知能', 'いらすとやさんに感謝', 'つづく']"
      ],
      "execution_count": 8,
      "outputs": []
    },
    {
      "cell_type": "code",
      "metadata": {
        "id": "KSGC8mBulplc"
      },
      "source": [
        "sentence_vectors = model.encode(sentences)\n",
        "query_embeddings = model.encode(queries)"
      ],
      "execution_count": 9,
      "outputs": []
    },
    {
      "cell_type": "markdown",
      "metadata": {
        "id": "Ez3ge2UR4jZn"
      },
      "source": [
        "#検証"
      ]
    },
    {
      "cell_type": "markdown",
      "metadata": {
        "id": "vHPyaN5X45DX"
      },
      "source": [
        "## cos類似度"
      ]
    },
    {
      "cell_type": "code",
      "metadata": {
        "id": "P8zOs718r1AQ",
        "outputId": "2f2ebf4e-d25d-41fe-cb25-4b53028e3c7b",
        "colab": {
          "base_uri": "https://localhost:8080/",
          "height": 495
        }
      },
      "source": [
        "import scipy.spatial\n",
        "import time\n",
        "\n",
        "closest_n = [1]\n",
        "\n",
        "start = time.time()\n",
        "for query, query_embedding in zip(queries, query_embeddings):\n",
        "    distances = scipy.spatial.distance.cdist([query_embedding], sentence_vectors, metric=\"cosine\")[0]\n",
        "\n",
        "    results = zip(range(len(distances)), distances)\n",
        "    results = sorted(results, key=lambda x: x[1])\n",
        "\n",
        "    print(\"\\n======================\\n\")\n",
        "    print(\"Query:\", query)\n",
        "\n",
        "    for i, (idx, distance) in enumerate(results[0:max(closest_n) + 1 ]):\n",
        "        if i + 1 in closest_n:\n",
        "            print(i + 1, sentences[idx].strip(), \"(Score: %.4f)\" % (1 - distance))\n",
        "\n",
        "elapsed_time = time.time() - start\n",
        "print(\"\\n\\n -------------------------------------------------------------\\n elapsed_time:{0}\".format(elapsed_time) + \"[sec]\")"
      ],
      "execution_count": 10,
      "outputs": [
        {
          "output_type": "stream",
          "text": [
            "\n",
            "======================\n",
            "\n",
            "Query: 武器を持つAI\n",
            "1 武器を持つAI (Score: 1.0000)\n",
            "\n",
            "======================\n",
            "\n",
            "Query: 暴走したAI\n",
            "1 戦うAI (Score: 0.6959)\n",
            "\n",
            "======================\n",
            "\n",
            "Query: 暴走した人工知能\n",
            "1 仕事を奪う人工知能 (Score: 0.7579)\n",
            "\n",
            "======================\n",
            "\n",
            "Query: いらすとやさんに感謝\n",
            "1 「ありがとう」と言っている人 (Score: 0.7238)\n",
            "\n",
            "======================\n",
            "\n",
            "Query: つづく\n",
            "1 いろいろな映画の「つづく」 (Score: 0.6243)\n",
            "\n",
            "\n",
            " -------------------------------------------------------------\n",
            " elapsed_time:0.009066343307495117[sec]\n"
          ],
          "name": "stdout"
        }
      ]
    },
    {
      "cell_type": "code",
      "metadata": {
        "id": "zvhzFaNnr9IE"
      },
      "source": [
        ""
      ],
      "execution_count": null,
      "outputs": []
    }
  ]
}