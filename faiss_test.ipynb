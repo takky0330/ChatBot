{
  "nbformat": 4,
  "nbformat_minor": 0,
  "metadata": {
    "colab": {
      "name": "faiss_test.ipynb",
      "provenance": [],
      "authorship_tag": "ABX9TyNpfgilB57+g35J9i6pYNhV",
      "include_colab_link": true
    },
    "kernelspec": {
      "name": "python3",
      "display_name": "Python 3"
    }
  },
  "cells": [
    {
      "cell_type": "markdown",
      "metadata": {
        "id": "view-in-github",
        "colab_type": "text"
      },
      "source": [
        "<a href=\"https://colab.research.google.com/github/takky0330/ChatBot/blob/master/faiss_test.ipynb\" target=\"_parent\"><img src=\"https://colab.research.google.com/assets/colab-badge.svg\" alt=\"Open In Colab\"/></a>"
      ]
    },
    {
      "cell_type": "markdown",
      "metadata": {
        "id": "lC_WjuaZkFkq"
      },
      "source": [
        "#準備"
      ]
    },
    {
      "cell_type": "code",
      "metadata": {
        "id": "0N0MOBxGj9fH",
        "outputId": "97f56dab-8dc7-415e-d593-9e11f4a45bfe",
        "colab": {
          "base_uri": "https://localhost:8080/",
          "height": 33
        }
      },
      "source": [
        "!pip3 install mecab-python3==0.996.5"
      ],
      "execution_count": 1,
      "outputs": [
        {
          "output_type": "stream",
          "text": [
            "Requirement already satisfied: mecab-python3==0.996.5 in /usr/local/lib/python3.6/dist-packages (0.996.5)\n"
          ],
          "name": "stdout"
        }
      ]
    },
    {
      "cell_type": "code",
      "metadata": {
        "id": "j-7_cdnWpOj4",
        "outputId": "56b5f324-86a2-4553-80ce-388e6d9dc417",
        "colab": {
          "base_uri": "https://localhost:8080/",
          "height": 33
        }
      },
      "source": [
        "!pip3 install -U urllib3"
      ],
      "execution_count": 3,
      "outputs": [
        {
          "output_type": "stream",
          "text": [
            "Requirement already up-to-date: urllib3 in /usr/local/lib/python3.6/dist-packages (1.25.11)\n"
          ],
          "name": "stdout"
        }
      ]
    },
    {
      "cell_type": "code",
      "metadata": {
        "id": "7LFCS5d0mIpC",
        "outputId": "dc7f9390-384e-4a1f-8953-92969df2e242",
        "colab": {
          "base_uri": "https://localhost:8080/",
          "height": 561
        }
      },
      "source": [
        "!pip3 install datascience==0.8.2"
      ],
      "execution_count": 4,
      "outputs": [
        {
          "output_type": "stream",
          "text": [
            "Requirement already satisfied: datascience==0.8.2 in /usr/local/lib/python3.6/dist-packages (0.8.2)\n",
            "Requirement already satisfied: folium==0.1.5 in /usr/local/lib/python3.6/dist-packages (from datascience==0.8.2) (0.1.5)\n",
            "Requirement already satisfied: pytest in /usr/local/lib/python3.6/dist-packages (from datascience==0.8.2) (3.6.4)\n",
            "Requirement already satisfied: coverage==3.7.1 in /usr/local/lib/python3.6/dist-packages (from datascience==0.8.2) (3.7.1)\n",
            "Requirement already satisfied: setuptools in /usr/local/lib/python3.6/dist-packages (from datascience==0.8.2) (50.3.0)\n",
            "Requirement already satisfied: coveralls==0.5 in /usr/local/lib/python3.6/dist-packages (from datascience==0.8.2) (0.5)\n",
            "Requirement already satisfied: sphinx in /usr/local/lib/python3.6/dist-packages (from datascience==0.8.2) (1.8.5)\n",
            "Requirement already satisfied: py>=1.5.0 in /usr/local/lib/python3.6/dist-packages (from pytest->datascience==0.8.2) (1.9.0)\n",
            "Requirement already satisfied: more-itertools>=4.0.0 in /usr/local/lib/python3.6/dist-packages (from pytest->datascience==0.8.2) (8.5.0)\n",
            "Requirement already satisfied: attrs>=17.4.0 in /usr/local/lib/python3.6/dist-packages (from pytest->datascience==0.8.2) (20.2.0)\n",
            "Requirement already satisfied: atomicwrites>=1.0 in /usr/local/lib/python3.6/dist-packages (from pytest->datascience==0.8.2) (1.4.0)\n",
            "Requirement already satisfied: pluggy<0.8,>=0.5 in /usr/local/lib/python3.6/dist-packages (from pytest->datascience==0.8.2) (0.7.1)\n",
            "Requirement already satisfied: six>=1.10.0 in /usr/local/lib/python3.6/dist-packages (from pytest->datascience==0.8.2) (1.15.0)\n",
            "Requirement already satisfied: requests>=1.0.0 in /usr/local/lib/python3.6/dist-packages (from coveralls==0.5->datascience==0.8.2) (2.23.0)\n",
            "Requirement already satisfied: docopt>=0.6.1 in /usr/local/lib/python3.6/dist-packages (from coveralls==0.5->datascience==0.8.2) (0.6.2)\n",
            "Requirement already satisfied: PyYAML>=3.10 in /usr/local/lib/python3.6/dist-packages (from coveralls==0.5->datascience==0.8.2) (3.13)\n",
            "Requirement already satisfied: snowballstemmer>=1.1 in /usr/local/lib/python3.6/dist-packages (from sphinx->datascience==0.8.2) (2.0.0)\n",
            "Requirement already satisfied: Jinja2>=2.3 in /usr/local/lib/python3.6/dist-packages (from sphinx->datascience==0.8.2) (2.11.2)\n",
            "Requirement already satisfied: babel!=2.0,>=1.3 in /usr/local/lib/python3.6/dist-packages (from sphinx->datascience==0.8.2) (2.8.0)\n",
            "Requirement already satisfied: docutils>=0.11 in /usr/local/lib/python3.6/dist-packages (from sphinx->datascience==0.8.2) (0.16)\n",
            "Requirement already satisfied: imagesize in /usr/local/lib/python3.6/dist-packages (from sphinx->datascience==0.8.2) (1.2.0)\n",
            "Requirement already satisfied: sphinxcontrib-websupport in /usr/local/lib/python3.6/dist-packages (from sphinx->datascience==0.8.2) (1.2.4)\n",
            "Requirement already satisfied: alabaster<0.8,>=0.7 in /usr/local/lib/python3.6/dist-packages (from sphinx->datascience==0.8.2) (0.7.12)\n",
            "Requirement already satisfied: Pygments>=2.0 in /usr/local/lib/python3.6/dist-packages (from sphinx->datascience==0.8.2) (2.6.1)\n",
            "Requirement already satisfied: packaging in /usr/local/lib/python3.6/dist-packages (from sphinx->datascience==0.8.2) (20.4)\n",
            "Requirement already satisfied: idna<3,>=2.5 in /usr/local/lib/python3.6/dist-packages (from requests>=1.0.0->coveralls==0.5->datascience==0.8.2) (2.10)\n",
            "Requirement already satisfied: urllib3!=1.25.0,!=1.25.1,<1.26,>=1.21.1 in /usr/local/lib/python3.6/dist-packages (from requests>=1.0.0->coveralls==0.5->datascience==0.8.2) (1.25.11)\n",
            "Requirement already satisfied: certifi>=2017.4.17 in /usr/local/lib/python3.6/dist-packages (from requests>=1.0.0->coveralls==0.5->datascience==0.8.2) (2020.6.20)\n",
            "Requirement already satisfied: chardet<4,>=3.0.2 in /usr/local/lib/python3.6/dist-packages (from requests>=1.0.0->coveralls==0.5->datascience==0.8.2) (3.0.4)\n",
            "Requirement already satisfied: MarkupSafe>=0.23 in /usr/local/lib/python3.6/dist-packages (from Jinja2>=2.3->sphinx->datascience==0.8.2) (1.1.1)\n",
            "Requirement already satisfied: pytz>=2015.7 in /usr/local/lib/python3.6/dist-packages (from babel!=2.0,>=1.3->sphinx->datascience==0.8.2) (2018.9)\n",
            "Requirement already satisfied: sphinxcontrib-serializinghtml in /usr/local/lib/python3.6/dist-packages (from sphinxcontrib-websupport->sphinx->datascience==0.8.2) (1.1.4)\n",
            "Requirement already satisfied: pyparsing>=2.0.2 in /usr/local/lib/python3.6/dist-packages (from packaging->sphinx->datascience==0.8.2) (2.4.7)\n"
          ],
          "name": "stdout"
        }
      ]
    },
    {
      "cell_type": "code",
      "metadata": {
        "id": "-b_3z43XpBi8",
        "outputId": "7baf8e8b-081e-4fae-ae34-51c6efd7be5f",
        "colab": {
          "base_uri": "https://localhost:8080/",
          "height": 33
        }
      },
      "source": [
        "!pip3 install -U urllib3"
      ],
      "execution_count": 6,
      "outputs": [
        {
          "output_type": "stream",
          "text": [
            "Requirement already up-to-date: urllib3 in /usr/local/lib/python3.6/dist-packages (1.25.11)\n"
          ],
          "name": "stdout"
        }
      ]
    },
    {
      "cell_type": "code",
      "metadata": {
        "id": "9-OjVPc2o4E5"
      },
      "source": [
        "import botocore\n",
        "botocore.__version__"
      ],
      "execution_count": null,
      "outputs": []
    },
    {
      "cell_type": "code",
      "metadata": {
        "id": "LAmdeQuqkH6V",
        "outputId": "ee22f395-a497-4928-f8a2-55b1b6d6583b",
        "colab": {
          "base_uri": "https://localhost:8080/",
          "height": 445
        }
      },
      "source": [
        "!git clone https://github.com/sonoisa/sentence-transformers\n",
        "!cd sentence-transformers; pip install -r requirements.txt"
      ],
      "execution_count": 7,
      "outputs": [
        {
          "output_type": "stream",
          "text": [
            "fatal: destination path 'sentence-transformers' already exists and is not an empty directory.\n",
            "Requirement already satisfied: transformers==2.3.0 in /usr/local/lib/python3.6/dist-packages (from -r requirements.txt (line 1)) (2.3.0)\n",
            "Requirement already satisfied: tqdm in /usr/local/lib/python3.6/dist-packages (from -r requirements.txt (line 2)) (4.41.1)\n",
            "Requirement already satisfied: torch>=1.0.1 in /usr/local/lib/python3.6/dist-packages (from -r requirements.txt (line 3)) (1.6.0+cu101)\n",
            "Requirement already satisfied: numpy in /usr/local/lib/python3.6/dist-packages (from -r requirements.txt (line 4)) (1.18.5)\n",
            "Requirement already satisfied: scikit-learn in /usr/local/lib/python3.6/dist-packages (from -r requirements.txt (line 5)) (0.22.2.post1)\n",
            "Requirement already satisfied: scipy in /usr/local/lib/python3.6/dist-packages (from -r requirements.txt (line 6)) (1.4.1)\n",
            "Requirement already satisfied: nltk in /usr/local/lib/python3.6/dist-packages (from -r requirements.txt (line 7)) (3.2.5)\n",
            "Requirement already satisfied: mecab-python3 in /usr/local/lib/python3.6/dist-packages (from -r requirements.txt (line 8)) (0.996.5)\n",
            "Requirement already satisfied: sacremoses in /usr/local/lib/python3.6/dist-packages (from transformers==2.3.0->-r requirements.txt (line 1)) (0.0.43)\n",
            "Requirement already satisfied: sentencepiece in /usr/local/lib/python3.6/dist-packages (from transformers==2.3.0->-r requirements.txt (line 1)) (0.1.94)\n",
            "Requirement already satisfied: boto3 in /usr/local/lib/python3.6/dist-packages (from transformers==2.3.0->-r requirements.txt (line 1)) (1.16.5)\n",
            "Requirement already satisfied: requests in /usr/local/lib/python3.6/dist-packages (from transformers==2.3.0->-r requirements.txt (line 1)) (2.23.0)\n",
            "Requirement already satisfied: regex!=2019.12.17 in /usr/local/lib/python3.6/dist-packages (from transformers==2.3.0->-r requirements.txt (line 1)) (2019.12.20)\n",
            "Requirement already satisfied: future in /usr/local/lib/python3.6/dist-packages (from torch>=1.0.1->-r requirements.txt (line 3)) (0.16.0)\n",
            "Requirement already satisfied: joblib>=0.11 in /usr/local/lib/python3.6/dist-packages (from scikit-learn->-r requirements.txt (line 5)) (0.17.0)\n",
            "Requirement already satisfied: six in /usr/local/lib/python3.6/dist-packages (from nltk->-r requirements.txt (line 7)) (1.15.0)\n",
            "Requirement already satisfied: click in /usr/local/lib/python3.6/dist-packages (from sacremoses->transformers==2.3.0->-r requirements.txt (line 1)) (7.1.2)\n",
            "Requirement already satisfied: botocore<1.20.0,>=1.19.5 in /usr/local/lib/python3.6/dist-packages (from boto3->transformers==2.3.0->-r requirements.txt (line 1)) (1.19.5)\n",
            "Requirement already satisfied: jmespath<1.0.0,>=0.7.1 in /usr/local/lib/python3.6/dist-packages (from boto3->transformers==2.3.0->-r requirements.txt (line 1)) (0.10.0)\n",
            "Requirement already satisfied: s3transfer<0.4.0,>=0.3.0 in /usr/local/lib/python3.6/dist-packages (from boto3->transformers==2.3.0->-r requirements.txt (line 1)) (0.3.3)\n",
            "Requirement already satisfied: chardet<4,>=3.0.2 in /usr/local/lib/python3.6/dist-packages (from requests->transformers==2.3.0->-r requirements.txt (line 1)) (3.0.4)\n",
            "Requirement already satisfied: urllib3!=1.25.0,!=1.25.1,<1.26,>=1.21.1 in /usr/local/lib/python3.6/dist-packages (from requests->transformers==2.3.0->-r requirements.txt (line 1)) (1.25.11)\n",
            "Requirement already satisfied: certifi>=2017.4.17 in /usr/local/lib/python3.6/dist-packages (from requests->transformers==2.3.0->-r requirements.txt (line 1)) (2020.6.20)\n",
            "Requirement already satisfied: idna<3,>=2.5 in /usr/local/lib/python3.6/dist-packages (from requests->transformers==2.3.0->-r requirements.txt (line 1)) (2.10)\n",
            "Requirement already satisfied: python-dateutil<3.0.0,>=2.1 in /usr/local/lib/python3.6/dist-packages (from botocore<1.20.0,>=1.19.5->boto3->transformers==2.3.0->-r requirements.txt (line 1)) (2.8.1)\n"
          ],
          "name": "stdout"
        }
      ]
    },
    {
      "cell_type": "code",
      "metadata": {
        "id": "bPB2JPdykVOB",
        "outputId": "bf912e2e-18ee-4c54-fe90-40ced6222c33",
        "colab": {
          "base_uri": "https://localhost:8080/",
          "height": 429
        }
      },
      "source": [
        "!wget -O sonobe-datasets-sentence-transformers-model.tar \"https://www.floydhub.com/api/v1/resources/JLTtbaaK5dprnxoJtUbBbi?content=true&download=true&rename=sonobe-datasets-sentence-transformers-model-2\"\n",
        "!tar -xvf sonobe-datasets-sentence-transformers-model.tar"
      ],
      "execution_count": 8,
      "outputs": [
        {
          "output_type": "stream",
          "text": [
            "--2020-10-27 10:50:12--  https://www.floydhub.com/api/v1/resources/JLTtbaaK5dprnxoJtUbBbi?content=true&download=true&rename=sonobe-datasets-sentence-transformers-model-2\n",
            "Resolving www.floydhub.com (www.floydhub.com)... 104.26.0.30, 104.26.1.30, 172.67.72.144, ...\n",
            "Connecting to www.floydhub.com (www.floydhub.com)|104.26.0.30|:443... connected.\n",
            "HTTP request sent, awaiting response... 200 OK\n",
            "Length: unspecified [application/tar]\n",
            "Saving to: ‘sonobe-datasets-sentence-transformers-model.tar’\n",
            "\n",
            "sonobe-datasets-sen     [      <=>           ] 422.28M  27.8MB/s    in 16s     \n",
            "\n",
            "2020-10-27 10:50:28 (26.2 MB/s) - ‘sonobe-datasets-sentence-transformers-model.tar’ saved [442788352]\n",
            "\n",
            "./\n",
            "./training_bert_japanese/\n",
            "./training_bert_japanese/0_BERTJapanese/\n",
            "./training_bert_japanese/0_BERTJapanese/added_tokens.json\n",
            "./training_bert_japanese/0_BERTJapanese/config.json\n",
            "./training_bert_japanese/0_BERTJapanese/pytorch_model.bin\n",
            "./training_bert_japanese/0_BERTJapanese/sentence_bert_config.json\n",
            "./training_bert_japanese/0_BERTJapanese/special_tokens_map.json\n",
            "./training_bert_japanese/0_BERTJapanese/tokenizer_config.json\n",
            "./training_bert_japanese/0_BERTJapanese/vocab.txt\n",
            "./training_bert_japanese/1_Pooling/\n",
            "./training_bert_japanese/1_Pooling/config.json\n",
            "./training_bert_japanese/config.json\n",
            "./training_bert_japanese/modules.json\n"
          ],
          "name": "stdout"
        }
      ]
    },
    {
      "cell_type": "code",
      "metadata": {
        "id": "XkValKs9kybx",
        "outputId": "4d747507-2e63-4ee4-8782-fafb6c909e1f",
        "colab": {
          "base_uri": "https://localhost:8080/",
          "height": 33
        }
      },
      "source": [
        "%cd sentence-transformers"
      ],
      "execution_count": 9,
      "outputs": [
        {
          "output_type": "stream",
          "text": [
            "/content/sentence-transformers\n"
          ],
          "name": "stdout"
        }
      ]
    },
    {
      "cell_type": "code",
      "metadata": {
        "id": "O0jdu_ANlX_C"
      },
      "source": [
        "%tensorflow_version 2.x\n",
        "from sentence_transformers import SentenceTransformer\n",
        "import numpy as np\n",
        "\n",
        "model_path = \"/content/training_bert_japanese\"\n",
        "model = SentenceTransformer(model_path, show_progress_bar=False)"
      ],
      "execution_count": 10,
      "outputs": []
    },
    {
      "cell_type": "code",
      "metadata": {
        "id": "ihM1xo8ulhqu"
      },
      "source": [
        "sentences = [\"お辞儀をしている男性会社員\", \"笑い袋\", \"テクニカルエバンジェリスト（女性）\", \"戦うAI\", \"笑う男性（5段階）\", \n",
        "\"漫才師\", \"お辞儀をしている医者（女性）\", \"お辞儀をしている薬剤師\", \"福笑いをしている人\", \"AIの家族\", \"コント師\", \n",
        "\"福笑い（女性）\", \"お辞儀をしている犬\", \"苦笑いをする女性\", \"お辞儀をしている医者\", \"いろいろな漫符\", \n",
        "\"雛人形「仕丁・三人上戸」\", \"ダンス「踊る男性」\", \"拍手をしている人\", \"定年（男性）\", \"ものまね芸人\", \"福笑いのおたふく\", \n",
        "\"お辞儀をしている看護師（男性）\", \"愛想笑い\", \"福笑い（ひょっとこ）\", \"成長する人工知能\", \"苦笑いをする男性\", \n",
        "\"運動会「徒競走・白組」\", \"人工知能と喧嘩をする人\", \"人工知能\", \"ありがた迷惑\", \"お辞儀をしているクマ\", \"笑う女性（5段階）\", \n",
        "\"人工知能とメールをする人（男性）\", \"技術書\", \"笑いをこらえる人（女性）\", \"ダンス「踊る女性」\", \"お辞儀をしている猫\", \n",
        "\"福笑い（男性）\", \"武器を持つAI\", \"作曲する人工知能\", \"縄跳びを飛んでいる女性\", \"福笑い（おかめ）\", \"茅の輪くぐり\", \"表情\", \n",
        "\"AIと仲良くなる人間\", \"お笑い芸人「漫才師」\", \"人工知能とメールをする人（女性）\", \"人工知能と戦う囲碁の棋士\", \"拍手している女の子\", \n",
        "\"検索する人工知能\", \"ピースサインを出す人（女性）\", \"啓示を受けた人（女性）\", \"仕事をする人工知能\", \"一輪車に乗る女の子\", \n",
        "\"お辞儀をしているウサギ\", \"走る猫（笑顔）\", \"人工知能と戦う将棋の棋士\", \"遠足「お弁当・男の子・女の子」\", \"心を持ったAI\", \n",
        "\"プレゼントをもらって喜ぶ女の子\", \"技術書（バラバラ）\", \"いろいろな表情の酔っぱらい（男性）\", \"拍手している人（棒人間）\", \n",
        "\"仕事を奪う人工知能\", \"文章を書く人工知能\", \"いろいろな映画の「つづく」\", \"絵を描く人工知能\", \"拍手している男の子\", \"ハリセン\", \n",
        "\"人工知能と仲良くする人たち\", \"ON AIRランプ\", \"いろいろな表情の酔っぱらい（女性）\", \"徹夜明けの笑顔（女性）\", \n",
        "\"徹夜明けの笑顔（男性）\", \"お辞儀をしている女性会社員\", \"バンザイをしているお婆さん\", \"画像認識をするAI\", \n",
        "\"芸人の男の子（将来の夢）\", \"料理「女性」\", \"ピコピコハンマー\", \"鏡を見る人（笑顔の男性）\", \"笑いをこらえる人（男性）\", \n",
        "\"シンギュラリティ\", \"人工知能に仕事を任せる人\", \"スマートスピーカー\", \"学ぶ人工知能\", \"人工知能・AI\", \"英語のアルファベット\", \n",
        "\"お金を見つめてニヤけている男性\", \"「ありがとう」と言っている人\", \"定年（女性）\", \"テクニカルエバンジェリスト（男性）\", \n",
        "\"スタンディングオベーション\"]"
      ],
      "execution_count": 11,
      "outputs": []
    },
    {
      "cell_type": "code",
      "metadata": {
        "id": "KSGC8mBulplc"
      },
      "source": [
        "sentence_vectors = model.encode(sentences)"
      ],
      "execution_count": 12,
      "outputs": []
    },
    {
      "cell_type": "code",
      "metadata": {
        "id": "P8zOs718r1AQ",
        "outputId": "1a9fdea9-95c8-4553-be68-f7580a2c7f5b",
        "colab": {
          "base_uri": "https://localhost:8080/",
          "height": 874
        }
      },
      "source": [
        "import scipy.spatial\n",
        "\n",
        "queries = ['暴走したAI', '暴走した人工知能', 'いらすとやさんに感謝', 'つづく']\n",
        "query_embeddings = model.encode(queries)\n",
        "\n",
        "closest_n = 5\n",
        "for query, query_embedding in zip(queries, query_embeddings):\n",
        "    distances = scipy.spatial.distance.cdist([query_embedding], sentence_vectors, metric=\"cosine\")[0]\n",
        "\n",
        "    results = zip(range(len(distances)), distances)\n",
        "    results = sorted(results, key=lambda x: x[1])\n",
        "\n",
        "    print(\"\\n\\n======================\\n\\n\")\n",
        "    print(\"Query:\", query)\n",
        "    print(\"\\nTop 5 most similar sentences in corpus:\")\n",
        "\n",
        "    for idx, distance in results[0:closest_n]:\n",
        "        print(sentences[idx].strip(), \"(Score: %.4f)\" % (distance / 2))"
      ],
      "execution_count": 13,
      "outputs": [
        {
          "output_type": "stream",
          "text": [
            "\n",
            "\n",
            "======================\n",
            "\n",
            "\n",
            "Query: 暴走したAI\n",
            "\n",
            "Top 5 most similar sentences in corpus:\n",
            "戦うAI (Score: 0.1521)\n",
            "心を持ったAI (Score: 0.1666)\n",
            "武器を持つAI (Score: 0.1994)\n",
            "人工知能・AI (Score: 0.2130)\n",
            "画像認識をするAI (Score: 0.2306)\n",
            "\n",
            "\n",
            "======================\n",
            "\n",
            "\n",
            "Query: 暴走した人工知能\n",
            "\n",
            "Top 5 most similar sentences in corpus:\n",
            "仕事を奪う人工知能 (Score: 0.1210)\n",
            "人工知能と喧嘩をする人 (Score: 0.1389)\n",
            "人工知能 (Score: 0.1411)\n",
            "成長する人工知能 (Score: 0.1482)\n",
            "人工知能・AI (Score: 0.1629)\n",
            "\n",
            "\n",
            "======================\n",
            "\n",
            "\n",
            "Query: いらすとやさんに感謝\n",
            "\n",
            "Top 5 most similar sentences in corpus:\n",
            "「ありがとう」と言っている人 (Score: 0.1381)\n",
            "福笑いのおたふく (Score: 0.1693)\n",
            "福笑い（ひょっとこ） (Score: 0.1715)\n",
            "福笑い（おかめ） (Score: 0.1743)\n",
            "笑いをこらえる人（男性） (Score: 0.1789)\n",
            "\n",
            "\n",
            "======================\n",
            "\n",
            "\n",
            "Query: つづく\n",
            "\n",
            "Top 5 most similar sentences in corpus:\n",
            "いろいろな映画の「つづく」 (Score: 0.1878)\n",
            "シンギュラリティ (Score: 0.2703)\n",
            "愛想笑い (Score: 0.2811)\n",
            "ありがた迷惑 (Score: 0.2881)\n",
            "ハリセン (Score: 0.2931)\n"
          ],
          "name": "stdout"
        }
      ]
    },
    {
      "cell_type": "code",
      "metadata": {
        "id": "zvhzFaNnr9IE"
      },
      "source": [
        ""
      ],
      "execution_count": null,
      "outputs": []
    }
  ]
}