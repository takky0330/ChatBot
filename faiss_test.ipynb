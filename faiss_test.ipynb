{
  "nbformat": 4,
  "nbformat_minor": 0,
  "metadata": {
    "colab": {
      "name": "faiss_test.ipynb",
      "provenance": [],
      "authorship_tag": "ABX9TyN65th33OdLldH52XIeLk0+",
      "include_colab_link": true
    },
    "kernelspec": {
      "name": "python3",
      "display_name": "Python 3"
    }
  },
  "cells": [
    {
      "cell_type": "markdown",
      "metadata": {
        "id": "view-in-github",
        "colab_type": "text"
      },
      "source": [
        "<a href=\"https://colab.research.google.com/github/takky0330/ChatBot/blob/master/faiss_test.ipynb\" target=\"_parent\"><img src=\"https://colab.research.google.com/assets/colab-badge.svg\" alt=\"Open In Colab\"/></a>"
      ]
    },
    {
      "cell_type": "markdown",
      "metadata": {
        "id": "lC_WjuaZkFkq"
      },
      "source": [
        "#準備"
      ]
    },
    {
      "cell_type": "code",
      "metadata": {
        "id": "FoYufNtD7d9_",
        "outputId": "9a463094-5229-42d9-8ca4-6d2650acfd5d",
        "colab": {
          "base_uri": "https://localhost:8080/",
          "height": 577
        }
      },
      "source": [
        "## 以下の２つのバージョンを合わせる必要がある 2020/10/27\n",
        "!pip3 install datascience==0.8.2\n",
        "!pip3 install urllib3==1.25.4\n",
        "\n",
        "## 初回の実行が終わったら、［ランタイム］ー［ランタイムの再起動］する"
      ],
      "execution_count": 1,
      "outputs": [
        {
          "output_type": "stream",
          "text": [
            "Requirement already satisfied: datascience==0.8.2 in /usr/local/lib/python3.6/dist-packages (0.8.2)\n",
            "Requirement already satisfied: setuptools in /usr/local/lib/python3.6/dist-packages (from datascience==0.8.2) (50.3.0)\n",
            "Requirement already satisfied: pytest in /usr/local/lib/python3.6/dist-packages (from datascience==0.8.2) (3.6.4)\n",
            "Requirement already satisfied: coverage==3.7.1 in /usr/local/lib/python3.6/dist-packages (from datascience==0.8.2) (3.7.1)\n",
            "Requirement already satisfied: folium==0.1.5 in /usr/local/lib/python3.6/dist-packages (from datascience==0.8.2) (0.1.5)\n",
            "Requirement already satisfied: coveralls==0.5 in /usr/local/lib/python3.6/dist-packages (from datascience==0.8.2) (0.5)\n",
            "Requirement already satisfied: sphinx in /usr/local/lib/python3.6/dist-packages (from datascience==0.8.2) (1.8.5)\n",
            "Requirement already satisfied: six>=1.10.0 in /usr/local/lib/python3.6/dist-packages (from pytest->datascience==0.8.2) (1.15.0)\n",
            "Requirement already satisfied: atomicwrites>=1.0 in /usr/local/lib/python3.6/dist-packages (from pytest->datascience==0.8.2) (1.4.0)\n",
            "Requirement already satisfied: pluggy<0.8,>=0.5 in /usr/local/lib/python3.6/dist-packages (from pytest->datascience==0.8.2) (0.7.1)\n",
            "Requirement already satisfied: py>=1.5.0 in /usr/local/lib/python3.6/dist-packages (from pytest->datascience==0.8.2) (1.9.0)\n",
            "Requirement already satisfied: more-itertools>=4.0.0 in /usr/local/lib/python3.6/dist-packages (from pytest->datascience==0.8.2) (8.5.0)\n",
            "Requirement already satisfied: attrs>=17.4.0 in /usr/local/lib/python3.6/dist-packages (from pytest->datascience==0.8.2) (20.2.0)\n",
            "Requirement already satisfied: PyYAML>=3.10 in /usr/local/lib/python3.6/dist-packages (from coveralls==0.5->datascience==0.8.2) (3.13)\n",
            "Requirement already satisfied: requests>=1.0.0 in /usr/local/lib/python3.6/dist-packages (from coveralls==0.5->datascience==0.8.2) (2.23.0)\n",
            "Requirement already satisfied: docopt>=0.6.1 in /usr/local/lib/python3.6/dist-packages (from coveralls==0.5->datascience==0.8.2) (0.6.2)\n",
            "Requirement already satisfied: packaging in /usr/local/lib/python3.6/dist-packages (from sphinx->datascience==0.8.2) (20.4)\n",
            "Requirement already satisfied: Pygments>=2.0 in /usr/local/lib/python3.6/dist-packages (from sphinx->datascience==0.8.2) (2.6.1)\n",
            "Requirement already satisfied: alabaster<0.8,>=0.7 in /usr/local/lib/python3.6/dist-packages (from sphinx->datascience==0.8.2) (0.7.12)\n",
            "Requirement already satisfied: imagesize in /usr/local/lib/python3.6/dist-packages (from sphinx->datascience==0.8.2) (1.2.0)\n",
            "Requirement already satisfied: snowballstemmer>=1.1 in /usr/local/lib/python3.6/dist-packages (from sphinx->datascience==0.8.2) (2.0.0)\n",
            "Requirement already satisfied: docutils>=0.11 in /usr/local/lib/python3.6/dist-packages (from sphinx->datascience==0.8.2) (0.16)\n",
            "Requirement already satisfied: Jinja2>=2.3 in /usr/local/lib/python3.6/dist-packages (from sphinx->datascience==0.8.2) (2.11.2)\n",
            "Requirement already satisfied: sphinxcontrib-websupport in /usr/local/lib/python3.6/dist-packages (from sphinx->datascience==0.8.2) (1.2.4)\n",
            "Requirement already satisfied: babel!=2.0,>=1.3 in /usr/local/lib/python3.6/dist-packages (from sphinx->datascience==0.8.2) (2.8.0)\n",
            "Requirement already satisfied: chardet<4,>=3.0.2 in /usr/local/lib/python3.6/dist-packages (from requests>=1.0.0->coveralls==0.5->datascience==0.8.2) (3.0.4)\n",
            "Requirement already satisfied: idna<3,>=2.5 in /usr/local/lib/python3.6/dist-packages (from requests>=1.0.0->coveralls==0.5->datascience==0.8.2) (2.10)\n",
            "Requirement already satisfied: certifi>=2017.4.17 in /usr/local/lib/python3.6/dist-packages (from requests>=1.0.0->coveralls==0.5->datascience==0.8.2) (2020.6.20)\n",
            "Requirement already satisfied: urllib3!=1.25.0,!=1.25.1,<1.26,>=1.21.1 in /usr/local/lib/python3.6/dist-packages (from requests>=1.0.0->coveralls==0.5->datascience==0.8.2) (1.25.4)\n",
            "Requirement already satisfied: pyparsing>=2.0.2 in /usr/local/lib/python3.6/dist-packages (from packaging->sphinx->datascience==0.8.2) (2.4.7)\n",
            "Requirement already satisfied: MarkupSafe>=0.23 in /usr/local/lib/python3.6/dist-packages (from Jinja2>=2.3->sphinx->datascience==0.8.2) (1.1.1)\n",
            "Requirement already satisfied: sphinxcontrib-serializinghtml in /usr/local/lib/python3.6/dist-packages (from sphinxcontrib-websupport->sphinx->datascience==0.8.2) (1.1.4)\n",
            "Requirement already satisfied: pytz>=2015.7 in /usr/local/lib/python3.6/dist-packages (from babel!=2.0,>=1.3->sphinx->datascience==0.8.2) (2018.9)\n",
            "Requirement already satisfied: urllib3==1.25.4 in /usr/local/lib/python3.6/dist-packages (1.25.4)\n"
          ],
          "name": "stdout"
        }
      ]
    },
    {
      "cell_type": "code",
      "metadata": {
        "id": "0N0MOBxGj9fH",
        "outputId": "b0f688b6-9865-46e2-a4b2-8d7cd1633875",
        "colab": {
          "base_uri": "https://localhost:8080/",
          "height": 99
        }
      },
      "source": [
        "## MeCab のバージョンを合わせる\n",
        "!pip3 install mecab-python3==0.996.5"
      ],
      "execution_count": 2,
      "outputs": [
        {
          "output_type": "stream",
          "text": [
            "Collecting mecab-python3==0.996.5\n",
            "\u001b[?25l  Downloading https://files.pythonhosted.org/packages/18/49/b55a839a77189042960bf96490640c44816073f917d489acbc5d79fa5cc3/mecab_python3-0.996.5-cp36-cp36m-manylinux2010_x86_64.whl (17.1MB)\n",
            "\u001b[K     |████████████████████████████████| 17.1MB 243kB/s \n",
            "\u001b[?25hInstalling collected packages: mecab-python3\n",
            "Successfully installed mecab-python3-0.996.5\n"
          ],
          "name": "stdout"
        }
      ]
    },
    {
      "cell_type": "code",
      "metadata": {
        "id": "LAmdeQuqkH6V",
        "outputId": "32cdf57c-1e26-4c69-cc82-7da2ddba4585",
        "colab": {
          "base_uri": "https://localhost:8080/",
          "height": 841
        }
      },
      "source": [
        "!git clone https://github.com/sonoisa/sentence-transformers\n",
        "!cd sentence-transformers; pip install -r requirements.txt"
      ],
      "execution_count": 3,
      "outputs": [
        {
          "output_type": "stream",
          "text": [
            "Cloning into 'sentence-transformers'...\n",
            "remote: Enumerating objects: 707, done.\u001b[K\n",
            "remote: Total 707 (delta 0), reused 0 (delta 0), pack-reused 707\u001b[K\n",
            "Receiving objects: 100% (707/707), 196.65 KiB | 694.00 KiB/s, done.\n",
            "Resolving deltas: 100% (476/476), done.\n",
            "Collecting transformers==2.3.0\n",
            "\u001b[?25l  Downloading https://files.pythonhosted.org/packages/50/10/aeefced99c8a59d828a92cc11d213e2743212d3641c87c82d61b035a7d5c/transformers-2.3.0-py3-none-any.whl (447kB)\n",
            "\u001b[K     |████████████████████████████████| 450kB 7.9MB/s \n",
            "\u001b[?25hRequirement already satisfied: tqdm in /usr/local/lib/python3.6/dist-packages (from -r requirements.txt (line 2)) (4.41.1)\n",
            "Requirement already satisfied: torch>=1.0.1 in /usr/local/lib/python3.6/dist-packages (from -r requirements.txt (line 3)) (1.6.0+cu101)\n",
            "Requirement already satisfied: numpy in /usr/local/lib/python3.6/dist-packages (from -r requirements.txt (line 4)) (1.18.5)\n",
            "Requirement already satisfied: scikit-learn in /usr/local/lib/python3.6/dist-packages (from -r requirements.txt (line 5)) (0.22.2.post1)\n",
            "Requirement already satisfied: scipy in /usr/local/lib/python3.6/dist-packages (from -r requirements.txt (line 6)) (1.4.1)\n",
            "Requirement already satisfied: nltk in /usr/local/lib/python3.6/dist-packages (from -r requirements.txt (line 7)) (3.2.5)\n",
            "Requirement already satisfied: mecab-python3 in /usr/local/lib/python3.6/dist-packages (from -r requirements.txt (line 8)) (0.996.5)\n",
            "Collecting sentencepiece\n",
            "\u001b[?25l  Downloading https://files.pythonhosted.org/packages/e5/2d/6d4ca4bef9a67070fa1cac508606328329152b1df10bdf31fb6e4e727894/sentencepiece-0.1.94-cp36-cp36m-manylinux2014_x86_64.whl (1.1MB)\n",
            "\u001b[K     |████████████████████████████████| 1.1MB 19.4MB/s \n",
            "\u001b[?25hRequirement already satisfied: regex!=2019.12.17 in /usr/local/lib/python3.6/dist-packages (from transformers==2.3.0->-r requirements.txt (line 1)) (2019.12.20)\n",
            "Requirement already satisfied: requests in /usr/local/lib/python3.6/dist-packages (from transformers==2.3.0->-r requirements.txt (line 1)) (2.23.0)\n",
            "Collecting sacremoses\n",
            "\u001b[?25l  Downloading https://files.pythonhosted.org/packages/7d/34/09d19aff26edcc8eb2a01bed8e98f13a1537005d31e95233fd48216eed10/sacremoses-0.0.43.tar.gz (883kB)\n",
            "\u001b[K     |████████████████████████████████| 890kB 37.4MB/s \n",
            "\u001b[?25hCollecting boto3\n",
            "\u001b[?25l  Downloading https://files.pythonhosted.org/packages/f2/d9/e8a56bd0953914f60207af4c41bb3947c47ca03577b1fe26258249dd9af7/boto3-1.16.6-py2.py3-none-any.whl (129kB)\n",
            "\u001b[K     |████████████████████████████████| 133kB 54.5MB/s \n",
            "\u001b[?25hRequirement already satisfied: future in /usr/local/lib/python3.6/dist-packages (from torch>=1.0.1->-r requirements.txt (line 3)) (0.16.0)\n",
            "Requirement already satisfied: joblib>=0.11 in /usr/local/lib/python3.6/dist-packages (from scikit-learn->-r requirements.txt (line 5)) (0.17.0)\n",
            "Requirement already satisfied: six in /usr/local/lib/python3.6/dist-packages (from nltk->-r requirements.txt (line 7)) (1.15.0)\n",
            "Requirement already satisfied: urllib3!=1.25.0,!=1.25.1,<1.26,>=1.21.1 in /usr/local/lib/python3.6/dist-packages (from requests->transformers==2.3.0->-r requirements.txt (line 1)) (1.25.4)\n",
            "Requirement already satisfied: chardet<4,>=3.0.2 in /usr/local/lib/python3.6/dist-packages (from requests->transformers==2.3.0->-r requirements.txt (line 1)) (3.0.4)\n",
            "Requirement already satisfied: certifi>=2017.4.17 in /usr/local/lib/python3.6/dist-packages (from requests->transformers==2.3.0->-r requirements.txt (line 1)) (2020.6.20)\n",
            "Requirement already satisfied: idna<3,>=2.5 in /usr/local/lib/python3.6/dist-packages (from requests->transformers==2.3.0->-r requirements.txt (line 1)) (2.10)\n",
            "Requirement already satisfied: click in /usr/local/lib/python3.6/dist-packages (from sacremoses->transformers==2.3.0->-r requirements.txt (line 1)) (7.1.2)\n",
            "Collecting botocore<1.20.0,>=1.19.6\n",
            "\u001b[?25l  Downloading https://files.pythonhosted.org/packages/15/6c/f5b074e14823f250e0a73e53714c1ed80d689d530468936d35a9d336f1dd/botocore-1.19.6-py2.py3-none-any.whl (6.7MB)\n",
            "\u001b[K     |████████████████████████████████| 6.7MB 53.3MB/s \n",
            "\u001b[?25hCollecting s3transfer<0.4.0,>=0.3.0\n",
            "\u001b[?25l  Downloading https://files.pythonhosted.org/packages/69/79/e6afb3d8b0b4e96cefbdc690f741d7dd24547ff1f94240c997a26fa908d3/s3transfer-0.3.3-py2.py3-none-any.whl (69kB)\n",
            "\u001b[K     |████████████████████████████████| 71kB 6.5MB/s \n",
            "\u001b[?25hCollecting jmespath<1.0.0,>=0.7.1\n",
            "  Downloading https://files.pythonhosted.org/packages/07/cb/5f001272b6faeb23c1c9e0acc04d48eaaf5c862c17709d20e3469c6e0139/jmespath-0.10.0-py2.py3-none-any.whl\n",
            "Requirement already satisfied: python-dateutil<3.0.0,>=2.1 in /usr/local/lib/python3.6/dist-packages (from botocore<1.20.0,>=1.19.6->boto3->transformers==2.3.0->-r requirements.txt (line 1)) (2.8.1)\n",
            "Building wheels for collected packages: sacremoses\n",
            "  Building wheel for sacremoses (setup.py) ... \u001b[?25l\u001b[?25hdone\n",
            "  Created wheel for sacremoses: filename=sacremoses-0.0.43-cp36-none-any.whl size=893257 sha256=f0a9663539e357a7a6e7444d13bbceb1b72de022f7b190268d3f75b1c46ddfd1\n",
            "  Stored in directory: /root/.cache/pip/wheels/29/3c/fd/7ce5c3f0666dab31a50123635e6fb5e19ceb42ce38d4e58f45\n",
            "Successfully built sacremoses\n",
            "Installing collected packages: sentencepiece, sacremoses, jmespath, botocore, s3transfer, boto3, transformers\n",
            "Successfully installed boto3-1.16.6 botocore-1.19.6 jmespath-0.10.0 s3transfer-0.3.3 sacremoses-0.0.43 sentencepiece-0.1.94 transformers-2.3.0\n"
          ],
          "name": "stdout"
        }
      ]
    },
    {
      "cell_type": "code",
      "metadata": {
        "id": "bPB2JPdykVOB",
        "outputId": "db10d532-1f56-4bb6-f1ce-37cb06207c39",
        "colab": {
          "base_uri": "https://localhost:8080/",
          "height": 429
        }
      },
      "source": [
        "!wget -O sonobe-datasets-sentence-transformers-model.tar \"https://www.floydhub.com/api/v1/resources/JLTtbaaK5dprnxoJtUbBbi?content=true&download=true&rename=sonobe-datasets-sentence-transformers-model-2\"\n",
        "!tar -xvf sonobe-datasets-sentence-transformers-model.tar"
      ],
      "execution_count": 4,
      "outputs": [
        {
          "output_type": "stream",
          "text": [
            "--2020-10-28 05:46:08--  https://www.floydhub.com/api/v1/resources/JLTtbaaK5dprnxoJtUbBbi?content=true&download=true&rename=sonobe-datasets-sentence-transformers-model-2\n",
            "Resolving www.floydhub.com (www.floydhub.com)... 172.67.72.144, 104.26.0.30, 104.26.1.30, ...\n",
            "Connecting to www.floydhub.com (www.floydhub.com)|172.67.72.144|:443... connected.\n",
            "HTTP request sent, awaiting response... 200 OK\n",
            "Length: unspecified [application/tar]\n",
            "Saving to: ‘sonobe-datasets-sentence-transformers-model.tar’\n",
            "\n",
            "sonobe-datasets-sen     [            <=>     ] 422.28M  21.1MB/s    in 20s     \n",
            "\n",
            "2020-10-28 05:46:28 (21.7 MB/s) - ‘sonobe-datasets-sentence-transformers-model.tar’ saved [442788352]\n",
            "\n",
            "./\n",
            "./training_bert_japanese/\n",
            "./training_bert_japanese/0_BERTJapanese/\n",
            "./training_bert_japanese/0_BERTJapanese/added_tokens.json\n",
            "./training_bert_japanese/0_BERTJapanese/config.json\n",
            "./training_bert_japanese/0_BERTJapanese/pytorch_model.bin\n",
            "./training_bert_japanese/0_BERTJapanese/sentence_bert_config.json\n",
            "./training_bert_japanese/0_BERTJapanese/special_tokens_map.json\n",
            "./training_bert_japanese/0_BERTJapanese/tokenizer_config.json\n",
            "./training_bert_japanese/0_BERTJapanese/vocab.txt\n",
            "./training_bert_japanese/1_Pooling/\n",
            "./training_bert_japanese/1_Pooling/config.json\n",
            "./training_bert_japanese/config.json\n",
            "./training_bert_japanese/modules.json\n"
          ],
          "name": "stdout"
        }
      ]
    },
    {
      "cell_type": "code",
      "metadata": {
        "id": "XkValKs9kybx",
        "outputId": "a1c49659-ff8e-4639-b591-caeabfd6e8fe",
        "colab": {
          "base_uri": "https://localhost:8080/",
          "height": 33
        }
      },
      "source": [
        "%cd sentence-transformers"
      ],
      "execution_count": 5,
      "outputs": [
        {
          "output_type": "stream",
          "text": [
            "/content/sentence-transformers\n"
          ],
          "name": "stdout"
        }
      ]
    },
    {
      "cell_type": "code",
      "metadata": {
        "id": "O0jdu_ANlX_C"
      },
      "source": [
        "%tensorflow_version 2.x\n",
        "from sentence_transformers import SentenceTransformer\n",
        "import numpy as np\n",
        "\n",
        "model_path = \"/content/training_bert_japanese\"\n",
        "model = SentenceTransformer(model_path, show_progress_bar=False)"
      ],
      "execution_count": 6,
      "outputs": []
    },
    {
      "cell_type": "markdown",
      "metadata": {
        "id": "9DO05YUD6DDI"
      },
      "source": [
        "#検索対象の embed"
      ]
    },
    {
      "cell_type": "code",
      "metadata": {
        "id": "8vi5Klq54CIM"
      },
      "source": [
        "#sentences = [\"お辞儀をしている男性会社員\", \"笑い袋\", \"テクニカルエバンジェリスト（女性）\", \"戦うAI\", \"笑う男性（5段階）\", \"漫才師\", \"お辞儀をしている医者（女性）\", \"お辞儀をしている薬剤師\", \"福笑いをしている人\", \"AIの家族\", \"コント師\", \"福笑い（女性）\", \"お辞儀をしている犬\", \"苦笑いをする女性\", \"お辞儀をしている医者\", \"いろいろな漫符\", \n",
        "#\"雛人形「仕丁・三人上戸」\", \"ダンス「踊る男性」\", \"拍手をしている人\", \"定年（男性）\", \"ものまね芸人\", \"福笑いのおたふく\",\"お辞儀をしている看護師（男性）\", \"愛想笑い\", \"福笑い（ひょっとこ）\", \"成長する人工知能\", \"苦笑いをする男性\", \"運動会「徒競走・白組」\", \"人工知能と喧嘩をする人\", \"人工知能\", \"ありがた迷惑\", \"お辞儀をしているクマ\", \"笑う女性（5段階）\", \n",
        "#\"人工知能とメールをする人（男性）\", \"技術書\", \"笑いをこらえる人（女性）\", \"ダンス「踊る女性」\", \"お辞儀をしている猫\", \"福笑い（男性）\", \"武器を持つAI\", \"作曲する人工知能\", \"縄跳びを飛んでいる女性\", \"福笑い（おかめ）\", \"茅の輪くぐり\", \"表情\", \"AIと仲良くなる人間\", \"お笑い芸人「漫才師」\", \"人工知能とメールをする人（女性）\", \"人工知能と戦う囲碁の棋士\", \"拍手している女の子\", \n",
        "#\"検索する人工知能\", \"ピースサインを出す人（女性）\", \"啓示を受けた人（女性）\", \"仕事をする人工知能\", \"一輪車に乗る女の子\", \"お辞儀をしているウサギ\", \"走る猫（笑顔）\", \"人工知能と戦う将棋の棋士\", \"遠足「お弁当・男の子・女の子」\", \"心を持ったAI\", \"プレゼントをもらって喜ぶ女の子\", \"技術書（バラバラ）\", \"いろいろな表情の酔っぱらい（男性）\", \"拍手している人（棒人間）\", \n",
        "#\"仕事を奪う人工知能\", \"文章を書く人工知能\", \"いろいろな映画の「つづく」\", \"絵を描く人工知能\", \"拍手している男の子\", \"ハリセン\", \"人工知能と仲良くする人たち\", \"ON AIRランプ\", \"いろいろな表情の酔っぱらい（女性）\", \"徹夜明けの笑顔（女性）\", \"徹夜明けの笑顔（男性）\", \"お辞儀をしている女性会社員\", \"バンザイをしているお婆さん\", \"画像認識をするAI\", \n",
        "#\"芸人の男の子（将来の夢）\", \"料理「女性」\", \"ピコピコハンマー\", \"鏡を見る人（笑顔の男性）\", \"笑いをこらえる人（男性）\", \"シンギュラリティ\", \"人工知能に仕事を任せる人\", \"スマートスピーカー\", \"学ぶ人工知能\", \"人工知能・AI\", \"英語のアルファベット\", \"お金を見つめてニヤけている男性\", \"「ありがとう」と言っている人\", \"定年（女性）\", \"テクニカルエバンジェリスト（男性）\", \n",
        "#\"スタンディングオベーション\"]\n",
        "\n",
        "#queries = [\"武器を持つAI\", '暴走したAI', '暴走した人工知能', 'いらすとやさんに感謝', 'つづく']"
      ],
      "execution_count": 7,
      "outputs": []
    },
    {
      "cell_type": "code",
      "metadata": {
        "id": "1QPVObWi0Wa1"
      },
      "source": [
        "import pandas as pd\n",
        "sentences_csv = pd.read_csv(\"https://drive.google.com/uc?id=1h7Nj-X8WY9OQnaRunAr02Xl6S74eXzKC\", sep=\",\")\n",
        "sentences = list(sentences_csv['EXP'])\n",
        "queries_csv = pd.read_csv(\"https://drive.google.com/uc?id=1i-d3KxmRVoGnAkvXhrLu9mrCtv_9_qLY\", sep=\",\")\n",
        "queries = list(queries_csv[\"Query\"])"
      ],
      "execution_count": 8,
      "outputs": []
    },
    {
      "cell_type": "code",
      "metadata": {
        "id": "KSGC8mBulplc",
        "outputId": "9ab09623-4038-4c32-87c5-9541c41fe171",
        "colab": {
          "base_uri": "https://localhost:8080/",
          "height": 102
        }
      },
      "source": [
        "sentence_vectors = model.encode(sentences)\n",
        "print(len(sentence_vectors))\n",
        "print([len(v) for v in sentence_vectors])\n",
        "query_embeddings = model.encode(queries)\n",
        "print(len(queries_csv))\n",
        "print([len(v) for v in query_embeddings])"
      ],
      "execution_count": 23,
      "outputs": [
        {
          "output_type": "stream",
          "text": [
            "72\n",
            "[768, 768, 768, 768, 768, 768, 768, 768, 768, 768, 768, 768, 768, 768, 768, 768, 768, 768, 768, 768, 768, 768, 768, 768, 768, 768, 768, 768, 768, 768, 768, 768, 768, 768, 768, 768, 768, 768, 768, 768, 768, 768, 768, 768, 768, 768, 768, 768, 768, 768, 768, 768, 768, 768, 768, 768, 768, 768, 768, 768, 768, 768, 768, 768, 768, 768, 768, 768, 768, 768, 768, 768]\n",
            "15\n",
            "[768, 768, 768, 768, 768, 768, 768, 768, 768, 768, 768, 768, 768, 768, 768]\n"
          ],
          "name": "stdout"
        }
      ]
    },
    {
      "cell_type": "markdown",
      "metadata": {
        "id": "Ez3ge2UR4jZn"
      },
      "source": [
        "#検証"
      ]
    },
    {
      "cell_type": "markdown",
      "metadata": {
        "id": "vHPyaN5X45DX"
      },
      "source": [
        "## cos類似度"
      ]
    },
    {
      "cell_type": "code",
      "metadata": {
        "id": "P8zOs718r1AQ",
        "outputId": "d323cdb5-7a2b-4075-d6cd-950eb4b8b71c",
        "colab": {
          "base_uri": "https://localhost:8080/",
          "height": 1000
        }
      },
      "source": [
        "import scipy.spatial\n",
        "import time\n",
        "\n",
        "closest_n = [1]\n",
        "\n",
        "start = time.time()\n",
        "for query, query_embedding in zip(queries, query_embeddings):\n",
        "    distances = scipy.spatial.distance.cdist([query_embedding], sentence_vectors, metric=\"cosine\")[0]\n",
        "\n",
        "    results = zip(range(len(distances)), distances)\n",
        "    results = sorted(results, key=lambda x: x[1])\n",
        "\n",
        "    print(\"\\n======================\")\n",
        "    print(\"Query:\", query)\n",
        "\n",
        "    for i, (idx, distance) in enumerate(results[0:max(closest_n) + 1 ]):\n",
        "        if i + 1 in closest_n:\n",
        "            print(i + 1, sentences[idx].strip(), \"(Score: %.4f)\" % (1 - distance))\n",
        "\n",
        "elapsed_time = time.time() - start\n",
        "print(\"\\n\\n -------------------------------------------------------------\\n elapsed_time:{0}\".format(elapsed_time) + \"[sec]\")"
      ],
      "execution_count": 84,
      "outputs": [
        {
          "output_type": "stream",
          "text": [
            "\n",
            "======================\n",
            "Query: RobotDiverの操作方法について教えてください\n",
            "1 RobotDiverの利用方法について教えて下さい (Score: 0.8767)\n",
            "\n",
            "======================\n",
            "Query: どのように利用するのでしょう？\n",
            "1 RobotDiverはどのように利用するんですか？ (Score: 0.6096)\n",
            "\n",
            "======================\n",
            "Query: 何ができるのですか？\n",
            "1 Machine Leaningを利用すると予測ができるのでしょうか (Score: 0.6004)\n",
            "\n",
            "======================\n",
            "Query: マニュアルはありますか？\n",
            "1 利用するマニュアルは有りますか (Score: 0.9086)\n",
            "\n",
            "======================\n",
            "Query: TangoACとはどんなことができるのですか？\n",
            "1 TangoACについて知りたい (Score: 0.7564)\n",
            "\n",
            "======================\n",
            "Query: 動きません\n",
            "1 TangoACの結果が出ません (Score: 0.6120)\n",
            "\n",
            "======================\n",
            "Query: 動かん\n",
            "1 ウインドウズでも動かせますか (Score: 0.5284)\n",
            "\n",
            "======================\n",
            "Query: URLは？\n",
            "1 ロボットダイバーのURLを教えて下さい (Score: 0.4726)\n",
            "\n",
            "======================\n",
            "Query: 問い合わせは可能ですか？\n",
            "1 電話での問い合わせは可能ですか (Score: 0.7921)\n",
            "\n",
            "======================\n",
            "Query: メールでの問い合わせは出来ますか？\n",
            "1 メールでの問い合わせは可能ですか (Score: 0.9732)\n",
            "\n",
            "======================\n",
            "Query: アフターコーディングの機能はありますか？\n",
            "1 Machine Leaningを利用すると予測ができるのでしょうか (Score: 0.5088)\n",
            "\n",
            "======================\n",
            "Query: 動作環境\n",
            "1 RobotDiverの動作環境は何処かに記載されていますか (Score: 0.6359)\n",
            "\n",
            "======================\n",
            "Query: 推奨のブラウザは何？\n",
            "1 どのようなブラウザが利用できますか (Score: 0.8274)\n",
            "\n",
            "======================\n",
            "Query: Macでも利用できるんの？\n",
            "1 Macで動かすことは可能ですか (Score: 0.9235)\n",
            "\n",
            "======================\n",
            "Query: インストールは必要？\n",
            "1 ロボットダイバーはインストールが必要ですか (Score: 0.5900)\n",
            "\n",
            "\n",
            " -------------------------------------------------------------\n",
            " elapsed_time:0.031241893768310547[sec]\n"
          ],
          "name": "stdout"
        }
      ]
    },
    {
      "cell_type": "markdown",
      "metadata": {
        "id": "LGmvDvUVRfIt"
      },
      "source": [
        "## faiss CPU"
      ]
    },
    {
      "cell_type": "code",
      "metadata": {
        "id": "zvhzFaNnr9IE",
        "outputId": "07e029b9-be22-4551-efa3-1585a840c700",
        "colab": {
          "base_uri": "https://localhost:8080/",
          "height": 33
        }
      },
      "source": [
        "!pip3 install faiss-cpu"
      ],
      "execution_count": 85,
      "outputs": [
        {
          "output_type": "stream",
          "text": [
            "Requirement already satisfied: faiss-cpu in /usr/local/lib/python3.6/dist-packages (1.6.4)\n"
          ],
          "name": "stdout"
        }
      ]
    },
    {
      "cell_type": "code",
      "metadata": {
        "id": "BxnxrCau92RS"
      },
      "source": [
        "import time\n",
        "import numpy as np\n",
        "import faiss"
      ],
      "execution_count": 86,
      "outputs": []
    },
    {
      "cell_type": "markdown",
      "metadata": {
        "id": "6vemKisURkZ8"
      },
      "source": [
        "### IndexFlatL2"
      ]
    },
    {
      "cell_type": "code",
      "metadata": {
        "id": "HdVfYB4-RRRK"
      },
      "source": [
        "d = max([len(v) for v in sentence_vectors])\n",
        "index = faiss.IndexFlatL2(d)\n",
        "index.add(np.array(sentence_vectors).astype('float32'))"
      ],
      "execution_count": 87,
      "outputs": []
    },
    {
      "cell_type": "code",
      "metadata": {
        "id": "E0ErwZIOMN2a",
        "outputId": "9f4d8607-e3aa-424d-a9df-3a1ba6ff6b8b",
        "colab": {
          "base_uri": "https://localhost:8080/",
          "height": 1000
        }
      },
      "source": [
        "closest_n = [1]\n",
        "start = time.time()\n",
        "\n",
        "D, I = index.search(np.array(query_embeddings).astype('float32'), max(closest_n))\n",
        "for _I, (IDX, DISTANCE) in enumerate(zip(I, D)):\n",
        "    print(\"\\n======================\")\n",
        "    print(\"Query:\", queries[_I])\n",
        "\n",
        "    for i, (idx, distance) in enumerate(zip(IDX, DISTANCE)):\n",
        "        if i + 1 in closest_n:\n",
        "            print(i + 1, sentences[idx].strip(), \"(Score: %.4f)\" % (1 - distance))\n",
        "\n",
        "elapsed_time = time.time() - start\n",
        "print(\"\\n\\n -------------------------------------------------------------\\n elapsed_time:{0}\".format(elapsed_time) + \"[sec]\")"
      ],
      "execution_count": 88,
      "outputs": [
        {
          "output_type": "stream",
          "text": [
            "\n",
            "======================\n",
            "Query: RobotDiverの操作方法について教えてください\n",
            "1 RobotDiverの利用方法について教えて下さい (Score: -89.7067)\n",
            "\n",
            "======================\n",
            "Query: どのように利用するのでしょう？\n",
            "1 RobotDiverはどのように利用するんですか？ (Score: -294.2201)\n",
            "\n",
            "======================\n",
            "Query: 何ができるのですか？\n",
            "1 Machine Leaningを利用すると予測ができるのでしょうか (Score: -300.3735)\n",
            "\n",
            "======================\n",
            "Query: マニュアルはありますか？\n",
            "1 利用するマニュアルは有りますか (Score: -81.9835)\n",
            "\n",
            "======================\n",
            "Query: TangoACとはどんなことができるのですか？\n",
            "1 TangoACについて知りたい (Score: -186.4214)\n",
            "\n",
            "======================\n",
            "Query: 動きません\n",
            "1 TangoACの結果が出ません (Score: -316.1909)\n",
            "\n",
            "======================\n",
            "Query: 動かん\n",
            "1 ウインドウズでも動かせますか (Score: -400.8091)\n",
            "\n",
            "======================\n",
            "Query: URLは？\n",
            "1 ロボットダイバーのURLを教えて下さい (Score: -418.8790)\n",
            "\n",
            "======================\n",
            "Query: 問い合わせは可能ですか？\n",
            "1 電話での問い合わせは可能ですか (Score: -170.3867)\n",
            "\n",
            "======================\n",
            "Query: メールでの問い合わせは出来ますか？\n",
            "1 メールでの問い合わせは可能ですか (Score: -21.1982)\n",
            "\n",
            "======================\n",
            "Query: アフターコーディングの機能はありますか？\n",
            "1 Machine Leaningを利用すると予測ができるのでしょうか (Score: -348.0704)\n",
            "\n",
            "======================\n",
            "Query: 動作環境\n",
            "1 RobotDiverの動作環境は何処かに記載されていますか (Score: -307.5202)\n",
            "\n",
            "======================\n",
            "Query: 推奨のブラウザは何？\n",
            "1 どのようなブラウザが利用できますか (Score: -142.9253)\n",
            "\n",
            "======================\n",
            "Query: Macでも利用できるんの？\n",
            "1 Macで動かすことは可能ですか (Score: -61.8551)\n",
            "\n",
            "======================\n",
            "Query: インストールは必要？\n",
            "1 ロボットダイバーはインストールが必要ですか (Score: -329.1868)\n",
            "\n",
            "\n",
            " -------------------------------------------------------------\n",
            " elapsed_time:0.016434431076049805[sec]\n"
          ],
          "name": "stdout"
        }
      ]
    },
    {
      "cell_type": "markdown",
      "metadata": {
        "id": "OxeRqX50RoFe"
      },
      "source": [
        "### IndexFlatIP"
      ]
    },
    {
      "cell_type": "code",
      "metadata": {
        "id": "J0bUv3-uMQms"
      },
      "source": [
        "d = max([len(v) for v in sentence_vectors])\n",
        "index = faiss.IndexFlatIP(d)\n",
        "index.add(np.array(sentence_vectors).astype('float32'))"
      ],
      "execution_count": 89,
      "outputs": []
    },
    {
      "cell_type": "code",
      "metadata": {
        "id": "6rt6uVL8S99a",
        "outputId": "a7d0bddf-2a8b-41fe-cde2-42d245556806",
        "colab": {
          "base_uri": "https://localhost:8080/",
          "height": 1000
        }
      },
      "source": [
        "closest_n = [1]\n",
        "start = time.time()\n",
        "\n",
        "D, I = index.search(np.array(query_embeddings).astype('float32'), max(closest_n))\n",
        "for _I, (IDX, DISTANCE) in enumerate(zip(I, D)):\n",
        "    print(\"\\n======================\")\n",
        "    print(\"Query:\", queries[_I])\n",
        "\n",
        "    for i, (idx, distance) in enumerate(zip(IDX, DISTANCE)):\n",
        "        if i + 1 in closest_n:\n",
        "            print(i + 1, sentences[idx].strip(), \"(Score: %.4f)\" % (1 - distance))\n",
        "\n",
        "elapsed_time = time.time() - start\n",
        "print(\"\\n\\n -------------------------------------------------------------\\n elapsed_time:{0}\".format(elapsed_time) + \"[sec]\")"
      ],
      "execution_count": 90,
      "outputs": [
        {
          "output_type": "stream",
          "text": [
            "\n",
            "======================\n",
            "Query: RobotDiverの操作方法について教えてください\n",
            "1 RobotDiverの利用方法について教えて下さい (Score: -321.2726)\n",
            "\n",
            "======================\n",
            "Query: どのように利用するのでしょう？\n",
            "1 アカウントはどのように取得するんですか (Score: -239.6324)\n",
            "\n",
            "======================\n",
            "Query: 何ができるのですか？\n",
            "1 Machine Leaningを利用すると予測ができるのでしょうか (Score: -219.0443)\n",
            "\n",
            "======================\n",
            "Query: マニュアルはありますか？\n",
            "1 利用するマニュアルは有りますか (Score: -411.4138)\n",
            "\n",
            "======================\n",
            "Query: TangoACとはどんなことができるのですか？\n",
            "1 TangoACについて知りたい (Score: -286.8451)\n",
            "\n",
            "======================\n",
            "Query: 動きません\n",
            "1 TangoACの結果が出ません (Score: -246.5840)\n",
            "\n",
            "======================\n",
            "Query: 動かん\n",
            "1 ウインドウズでも動かせますか (Score: -223.8102)\n",
            "\n",
            "======================\n",
            "Query: URLは？\n",
            "1 要約とはなんですか (Score: -186.9919)\n",
            "\n",
            "======================\n",
            "Query: 問い合わせは可能ですか？\n",
            "1 電話での問い合わせは可能ですか (Score: -324.4099)\n",
            "\n",
            "======================\n",
            "Query: メールでの問い合わせは出来ますか？\n",
            "1 メールでの問い合わせは可能ですか (Score: -398.6963)\n",
            "\n",
            "======================\n",
            "Query: アフターコーディングの機能はありますか？\n",
            "1 ウインドウズでも動かせますか (Score: -197.3774)\n",
            "\n",
            "======================\n",
            "Query: 動作環境\n",
            "1 RobotDiverの動作環境は何処かに記載されていますか (Score: -263.1935)\n",
            "\n",
            "======================\n",
            "Query: 推奨のブラウザは何？\n",
            "1 どのようなブラウザが利用できますか (Score: -343.8755)\n",
            "\n",
            "======================\n",
            "Query: Macでも利用できるんの？\n",
            "1 Macで動かすことは可能ですか (Score: -377.5128)\n",
            "\n",
            "======================\n",
            "Query: インストールは必要？\n",
            "1 ロボットダイバーはインストールが必要ですか (Score: -235.1591)\n",
            "\n",
            "\n",
            " -------------------------------------------------------------\n",
            " elapsed_time:0.007213115692138672[sec]\n"
          ],
          "name": "stdout"
        }
      ]
    },
    {
      "cell_type": "markdown",
      "metadata": {
        "id": "-GLnUd3CSUoW"
      },
      "source": [
        "### IndexIVFFlat"
      ]
    },
    {
      "cell_type": "code",
      "metadata": {
        "id": "k3ZNblAFSiC1"
      },
      "source": [
        "d = max([len(v) for v in sentence_vectors])\n",
        "nlist = 72   ## いろんな事例では 100 にしている事例が多いが、100 だとエラー\n",
        "k = 4\n",
        "quantizer = faiss.IndexFlatL2(d)\n",
        "index = faiss.IndexIVFFlat(quantizer, d, nlist, faiss.METRIC_L2)\n",
        "index.train(np.array(sentence_vectors).astype('float32'))\n",
        "index.add(np.array(sentence_vectors).astype('float32'))"
      ],
      "execution_count": 105,
      "outputs": []
    },
    {
      "cell_type": "code",
      "metadata": {
        "id": "0mwJXV6Fa6rp",
        "outputId": "97d15cb9-b791-4026-ea51-fee14aa983dd",
        "colab": {
          "base_uri": "https://localhost:8080/",
          "height": 1000
        }
      },
      "source": [
        "closest_n = [1]\n",
        "start = time.time()\n",
        "\n",
        "#index.nprobe = 1\n",
        "D, I = index.search(np.array(query_embeddings).astype('float32'), max(closest_n))\n",
        "for _I, (IDX, DISTANCE) in enumerate(zip(I, D)):\n",
        "    print(\"\\n======================\")\n",
        "    print(\"Query:\", queries[_I])\n",
        "\n",
        "    for i, (idx, distance) in enumerate(zip(IDX, DISTANCE)):\n",
        "        if i + 1 in closest_n:\n",
        "            print(i + 1, sentences[idx].strip(), \"(Score: %.4f)\" % (1 - distance))\n",
        "\n",
        "elapsed_time = time.time() - start\n",
        "print(\"\\n\\n -------------------------------------------------------------\\n elapsed_time:{0}\".format(elapsed_time) + \"[sec]\")"
      ],
      "execution_count": 106,
      "outputs": [
        {
          "output_type": "stream",
          "text": [
            "\n",
            "======================\n",
            "Query: RobotDiverの操作方法について教えてください\n",
            "1 RobotDiverの利用方法について教えて下さい (Score: -89.7067)\n",
            "\n",
            "======================\n",
            "Query: どのように利用するのでしょう？\n",
            "1 RobotDiverはどのように利用するんですか？ (Score: -294.2201)\n",
            "\n",
            "======================\n",
            "Query: 何ができるのですか？\n",
            "1 Machine Leaningを利用すると予測ができるのでしょうか (Score: -300.3735)\n",
            "\n",
            "======================\n",
            "Query: マニュアルはありますか？\n",
            "1 利用するマニュアルは有りますか (Score: -81.9835)\n",
            "\n",
            "======================\n",
            "Query: TangoACとはどんなことができるのですか？\n",
            "1 TangoACについて知りたい (Score: -186.4214)\n",
            "\n",
            "======================\n",
            "Query: 動きません\n",
            "1 TangoACの結果が出ません (Score: -316.1909)\n",
            "\n",
            "======================\n",
            "Query: 動かん\n",
            "1 ウインドウズでも動かせますか (Score: -400.8091)\n",
            "\n",
            "======================\n",
            "Query: URLは？\n",
            "1 ロボットダイバーのURLを教えて下さい (Score: -418.8790)\n",
            "\n",
            "======================\n",
            "Query: 問い合わせは可能ですか？\n",
            "1 電話での問い合わせは可能ですか (Score: -170.3867)\n",
            "\n",
            "======================\n",
            "Query: メールでの問い合わせは出来ますか？\n",
            "1 メールでの問い合わせは可能ですか (Score: -21.1982)\n",
            "\n",
            "======================\n",
            "Query: アフターコーディングの機能はありますか？\n",
            "1 Machine Leaningを利用すると予測ができるのでしょうか (Score: -348.0704)\n",
            "\n",
            "======================\n",
            "Query: 動作環境\n",
            "1 RobotDiverの動作環境は何処かに記載されていますか (Score: -307.5202)\n",
            "\n",
            "======================\n",
            "Query: 推奨のブラウザは何？\n",
            "1 どのようなブラウザが利用できますか (Score: -142.9253)\n",
            "\n",
            "======================\n",
            "Query: Macでも利用できるんの？\n",
            "1 Macで動かすことは可能ですか (Score: -61.8551)\n",
            "\n",
            "======================\n",
            "Query: インストールは必要？\n",
            "1 ロボットダイバーはインストールが必要ですか (Score: -329.1868)\n",
            "\n",
            "\n",
            " -------------------------------------------------------------\n",
            " elapsed_time:0.009254217147827148[sec]\n"
          ],
          "name": "stdout"
        }
      ]
    },
    {
      "cell_type": "markdown",
      "metadata": {
        "id": "tT-dfC-0Sb1H"
      },
      "source": [
        "### IndexIVFFlat（GPU）"
      ]
    },
    {
      "cell_type": "code",
      "metadata": {
        "id": "ObMb1W0ZSoDt"
      },
      "source": [
        "#GPUは使わない想定なので、今回は割愛！"
      ],
      "execution_count": 109,
      "outputs": []
    },
    {
      "cell_type": "code",
      "metadata": {
        "id": "qu7UMWTilOwZ"
      },
      "source": [
        ""
      ],
      "execution_count": null,
      "outputs": []
    }
  ]
}