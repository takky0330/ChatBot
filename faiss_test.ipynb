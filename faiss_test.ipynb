{
  "nbformat": 4,
  "nbformat_minor": 0,
  "metadata": {
    "colab": {
      "name": "faiss_test.ipynb",
      "provenance": [],
      "authorship_tag": "ABX9TyO5VmtqppzkZgu3AyZNjZNr",
      "include_colab_link": true
    },
    "kernelspec": {
      "name": "python3",
      "display_name": "Python 3"
    }
  },
  "cells": [
    {
      "cell_type": "markdown",
      "metadata": {
        "id": "view-in-github",
        "colab_type": "text"
      },
      "source": [
        "<a href=\"https://colab.research.google.com/github/takky0330/ChatBot/blob/master/faiss_test.ipynb\" target=\"_parent\"><img src=\"https://colab.research.google.com/assets/colab-badge.svg\" alt=\"Open In Colab\"/></a>"
      ]
    },
    {
      "cell_type": "markdown",
      "metadata": {
        "id": "lC_WjuaZkFkq"
      },
      "source": [
        "#準備"
      ]
    },
    {
      "cell_type": "code",
      "metadata": {
        "id": "FoYufNtD7d9_"
      },
      "source": [
        "## 以下の２つのバージョンを合わせる必要がある 2020/10/27\n",
        "!pip3 install datascience==0.8.2\n",
        "!pip3 install urllib3==1.25.4\n",
        "\n",
        "## 初回の実行が終わったら、［ランタイム］ー［ランタイムの再起動］する"
      ],
      "execution_count": null,
      "outputs": []
    },
    {
      "cell_type": "code",
      "metadata": {
        "id": "0N0MOBxGj9fH",
        "outputId": "6f697f76-d6bb-4d5b-e66e-b1240b6e973e",
        "colab": {
          "base_uri": "https://localhost:8080/",
          "height": 33
        }
      },
      "source": [
        "## MeCab のバージョンを合わせる\n",
        "!pip3 install mecab-python3==0.996.5"
      ],
      "execution_count": 1,
      "outputs": [
        {
          "output_type": "stream",
          "text": [
            "Requirement already satisfied: mecab-python3==0.996.5 in /usr/local/lib/python3.6/dist-packages (0.996.5)\n"
          ],
          "name": "stdout"
        }
      ]
    },
    {
      "cell_type": "code",
      "metadata": {
        "id": "LAmdeQuqkH6V",
        "outputId": "d442008d-8830-485a-a82b-9e3853438a0c",
        "colab": {
          "base_uri": "https://localhost:8080/",
          "height": 445
        }
      },
      "source": [
        "!git clone https://github.com/sonoisa/sentence-transformers\n",
        "!cd sentence-transformers; pip install -r requirements.txt"
      ],
      "execution_count": 3,
      "outputs": [
        {
          "output_type": "stream",
          "text": [
            "fatal: destination path 'sentence-transformers' already exists and is not an empty directory.\n",
            "Requirement already satisfied: transformers==2.3.0 in /usr/local/lib/python3.6/dist-packages (from -r requirements.txt (line 1)) (2.3.0)\n",
            "Requirement already satisfied: tqdm in /usr/local/lib/python3.6/dist-packages (from -r requirements.txt (line 2)) (4.41.1)\n",
            "Requirement already satisfied: torch>=1.0.1 in /usr/local/lib/python3.6/dist-packages (from -r requirements.txt (line 3)) (1.6.0+cu101)\n",
            "Requirement already satisfied: numpy in /usr/local/lib/python3.6/dist-packages (from -r requirements.txt (line 4)) (1.18.5)\n",
            "Requirement already satisfied: scikit-learn in /usr/local/lib/python3.6/dist-packages (from -r requirements.txt (line 5)) (0.22.2.post1)\n",
            "Requirement already satisfied: scipy in /usr/local/lib/python3.6/dist-packages (from -r requirements.txt (line 6)) (1.4.1)\n",
            "Requirement already satisfied: nltk in /usr/local/lib/python3.6/dist-packages (from -r requirements.txt (line 7)) (3.2.5)\n",
            "Requirement already satisfied: mecab-python3 in /usr/local/lib/python3.6/dist-packages (from -r requirements.txt (line 8)) (0.996.5)\n",
            "Requirement already satisfied: requests in /usr/local/lib/python3.6/dist-packages (from transformers==2.3.0->-r requirements.txt (line 1)) (2.23.0)\n",
            "Requirement already satisfied: regex!=2019.12.17 in /usr/local/lib/python3.6/dist-packages (from transformers==2.3.0->-r requirements.txt (line 1)) (2019.12.20)\n",
            "Requirement already satisfied: sentencepiece in /usr/local/lib/python3.6/dist-packages (from transformers==2.3.0->-r requirements.txt (line 1)) (0.1.94)\n",
            "Requirement already satisfied: boto3 in /usr/local/lib/python3.6/dist-packages (from transformers==2.3.0->-r requirements.txt (line 1)) (1.16.6)\n",
            "Requirement already satisfied: sacremoses in /usr/local/lib/python3.6/dist-packages (from transformers==2.3.0->-r requirements.txt (line 1)) (0.0.43)\n",
            "Requirement already satisfied: future in /usr/local/lib/python3.6/dist-packages (from torch>=1.0.1->-r requirements.txt (line 3)) (0.16.0)\n",
            "Requirement already satisfied: joblib>=0.11 in /usr/local/lib/python3.6/dist-packages (from scikit-learn->-r requirements.txt (line 5)) (0.17.0)\n",
            "Requirement already satisfied: six in /usr/local/lib/python3.6/dist-packages (from nltk->-r requirements.txt (line 7)) (1.15.0)\n",
            "Requirement already satisfied: urllib3!=1.25.0,!=1.25.1,<1.26,>=1.21.1 in /usr/local/lib/python3.6/dist-packages (from requests->transformers==2.3.0->-r requirements.txt (line 1)) (1.25.4)\n",
            "Requirement already satisfied: certifi>=2017.4.17 in /usr/local/lib/python3.6/dist-packages (from requests->transformers==2.3.0->-r requirements.txt (line 1)) (2020.6.20)\n",
            "Requirement already satisfied: chardet<4,>=3.0.2 in /usr/local/lib/python3.6/dist-packages (from requests->transformers==2.3.0->-r requirements.txt (line 1)) (3.0.4)\n",
            "Requirement already satisfied: idna<3,>=2.5 in /usr/local/lib/python3.6/dist-packages (from requests->transformers==2.3.0->-r requirements.txt (line 1)) (2.10)\n",
            "Requirement already satisfied: s3transfer<0.4.0,>=0.3.0 in /usr/local/lib/python3.6/dist-packages (from boto3->transformers==2.3.0->-r requirements.txt (line 1)) (0.3.3)\n",
            "Requirement already satisfied: jmespath<1.0.0,>=0.7.1 in /usr/local/lib/python3.6/dist-packages (from boto3->transformers==2.3.0->-r requirements.txt (line 1)) (0.10.0)\n",
            "Requirement already satisfied: botocore<1.20.0,>=1.19.6 in /usr/local/lib/python3.6/dist-packages (from boto3->transformers==2.3.0->-r requirements.txt (line 1)) (1.19.6)\n",
            "Requirement already satisfied: click in /usr/local/lib/python3.6/dist-packages (from sacremoses->transformers==2.3.0->-r requirements.txt (line 1)) (7.1.2)\n",
            "Requirement already satisfied: python-dateutil<3.0.0,>=2.1 in /usr/local/lib/python3.6/dist-packages (from botocore<1.20.0,>=1.19.6->boto3->transformers==2.3.0->-r requirements.txt (line 1)) (2.8.1)\n"
          ],
          "name": "stdout"
        }
      ]
    },
    {
      "cell_type": "code",
      "metadata": {
        "id": "bPB2JPdykVOB",
        "outputId": "be4d9aa8-df4d-404b-e99c-f07a5b8981ea",
        "colab": {
          "base_uri": "https://localhost:8080/",
          "height": 429
        }
      },
      "source": [
        "!wget -O sonobe-datasets-sentence-transformers-model.tar \"https://www.floydhub.com/api/v1/resources/JLTtbaaK5dprnxoJtUbBbi?content=true&download=true&rename=sonobe-datasets-sentence-transformers-model-2\"\n",
        "!tar -xvf sonobe-datasets-sentence-transformers-model.tar"
      ],
      "execution_count": 4,
      "outputs": [
        {
          "output_type": "stream",
          "text": [
            "--2020-10-28 01:55:33--  https://www.floydhub.com/api/v1/resources/JLTtbaaK5dprnxoJtUbBbi?content=true&download=true&rename=sonobe-datasets-sentence-transformers-model-2\n",
            "Resolving www.floydhub.com (www.floydhub.com)... 104.26.0.30, 172.67.72.144, 104.26.1.30, ...\n",
            "Connecting to www.floydhub.com (www.floydhub.com)|104.26.0.30|:443... connected.\n",
            "HTTP request sent, awaiting response... 200 OK\n",
            "Length: unspecified [application/tar]\n",
            "Saving to: ‘sonobe-datasets-sentence-transformers-model.tar’\n",
            "\n",
            "sonobe-datasets-sen     [<=>                 ] 422.28M  30.7MB/s    in 15s     \n",
            "\n",
            "2020-10-28 01:55:48 (28.6 MB/s) - ‘sonobe-datasets-sentence-transformers-model.tar’ saved [442788352]\n",
            "\n",
            "./\n",
            "./training_bert_japanese/\n",
            "./training_bert_japanese/0_BERTJapanese/\n",
            "./training_bert_japanese/0_BERTJapanese/added_tokens.json\n",
            "./training_bert_japanese/0_BERTJapanese/config.json\n",
            "./training_bert_japanese/0_BERTJapanese/pytorch_model.bin\n",
            "./training_bert_japanese/0_BERTJapanese/sentence_bert_config.json\n",
            "./training_bert_japanese/0_BERTJapanese/special_tokens_map.json\n",
            "./training_bert_japanese/0_BERTJapanese/tokenizer_config.json\n",
            "./training_bert_japanese/0_BERTJapanese/vocab.txt\n",
            "./training_bert_japanese/1_Pooling/\n",
            "./training_bert_japanese/1_Pooling/config.json\n",
            "./training_bert_japanese/config.json\n",
            "./training_bert_japanese/modules.json\n"
          ],
          "name": "stdout"
        }
      ]
    },
    {
      "cell_type": "code",
      "metadata": {
        "id": "XkValKs9kybx",
        "outputId": "68623a58-c12e-4655-cd29-aaad5153ea91",
        "colab": {
          "base_uri": "https://localhost:8080/",
          "height": 33
        }
      },
      "source": [
        "%cd sentence-transformers"
      ],
      "execution_count": 5,
      "outputs": [
        {
          "output_type": "stream",
          "text": [
            "/content/sentence-transformers\n"
          ],
          "name": "stdout"
        }
      ]
    },
    {
      "cell_type": "code",
      "metadata": {
        "id": "O0jdu_ANlX_C"
      },
      "source": [
        "%tensorflow_version 2.x\n",
        "from sentence_transformers import SentenceTransformer\n",
        "import numpy as np\n",
        "\n",
        "model_path = \"/content/training_bert_japanese\"\n",
        "model = SentenceTransformer(model_path, show_progress_bar=False)"
      ],
      "execution_count": 6,
      "outputs": []
    },
    {
      "cell_type": "markdown",
      "metadata": {
        "id": "9DO05YUD6DDI"
      },
      "source": [
        "#検索対象の embed"
      ]
    },
    {
      "cell_type": "code",
      "metadata": {
        "id": "8vi5Klq54CIM"
      },
      "source": [
        "#sentences = [\"お辞儀をしている男性会社員\", \"笑い袋\", \"テクニカルエバンジェリスト（女性）\", \"戦うAI\", \"笑う男性（5段階）\", \"漫才師\", \"お辞儀をしている医者（女性）\", \"お辞儀をしている薬剤師\", \"福笑いをしている人\", \"AIの家族\", \"コント師\", \"福笑い（女性）\", \"お辞儀をしている犬\", \"苦笑いをする女性\", \"お辞儀をしている医者\", \"いろいろな漫符\", \n",
        "#\"雛人形「仕丁・三人上戸」\", \"ダンス「踊る男性」\", \"拍手をしている人\", \"定年（男性）\", \"ものまね芸人\", \"福笑いのおたふく\",\"お辞儀をしている看護師（男性）\", \"愛想笑い\", \"福笑い（ひょっとこ）\", \"成長する人工知能\", \"苦笑いをする男性\", \"運動会「徒競走・白組」\", \"人工知能と喧嘩をする人\", \"人工知能\", \"ありがた迷惑\", \"お辞儀をしているクマ\", \"笑う女性（5段階）\", \n",
        "#\"人工知能とメールをする人（男性）\", \"技術書\", \"笑いをこらえる人（女性）\", \"ダンス「踊る女性」\", \"お辞儀をしている猫\", \"福笑い（男性）\", \"武器を持つAI\", \"作曲する人工知能\", \"縄跳びを飛んでいる女性\", \"福笑い（おかめ）\", \"茅の輪くぐり\", \"表情\", \"AIと仲良くなる人間\", \"お笑い芸人「漫才師」\", \"人工知能とメールをする人（女性）\", \"人工知能と戦う囲碁の棋士\", \"拍手している女の子\", \n",
        "#\"検索する人工知能\", \"ピースサインを出す人（女性）\", \"啓示を受けた人（女性）\", \"仕事をする人工知能\", \"一輪車に乗る女の子\", \"お辞儀をしているウサギ\", \"走る猫（笑顔）\", \"人工知能と戦う将棋の棋士\", \"遠足「お弁当・男の子・女の子」\", \"心を持ったAI\", \"プレゼントをもらって喜ぶ女の子\", \"技術書（バラバラ）\", \"いろいろな表情の酔っぱらい（男性）\", \"拍手している人（棒人間）\", \n",
        "#\"仕事を奪う人工知能\", \"文章を書く人工知能\", \"いろいろな映画の「つづく」\", \"絵を描く人工知能\", \"拍手している男の子\", \"ハリセン\", \"人工知能と仲良くする人たち\", \"ON AIRランプ\", \"いろいろな表情の酔っぱらい（女性）\", \"徹夜明けの笑顔（女性）\", \"徹夜明けの笑顔（男性）\", \"お辞儀をしている女性会社員\", \"バンザイをしているお婆さん\", \"画像認識をするAI\", \n",
        "#\"芸人の男の子（将来の夢）\", \"料理「女性」\", \"ピコピコハンマー\", \"鏡を見る人（笑顔の男性）\", \"笑いをこらえる人（男性）\", \"シンギュラリティ\", \"人工知能に仕事を任せる人\", \"スマートスピーカー\", \"学ぶ人工知能\", \"人工知能・AI\", \"英語のアルファベット\", \"お金を見つめてニヤけている男性\", \"「ありがとう」と言っている人\", \"定年（女性）\", \"テクニカルエバンジェリスト（男性）\", \n",
        "#\"スタンディングオベーション\"]\n",
        "\n",
        "#queries = [\"武器を持つAI\", '暴走したAI', '暴走した人工知能', 'いらすとやさんに感謝', 'つづく']"
      ],
      "execution_count": 7,
      "outputs": []
    },
    {
      "cell_type": "code",
      "metadata": {
        "id": "1QPVObWi0Wa1"
      },
      "source": [
        "import pandas as pd\n",
        "sentences_csv = pd.read_csv(\"https://drive.google.com/uc?id=1h7Nj-X8WY9OQnaRunAr02Xl6S74eXzKC\", sep=\",\")\n",
        "sentences = list(sentences_csv['EXP'])\n",
        "queries_csv = pd.read_csv(\"https://drive.google.com/uc?id=1i-d3KxmRVoGnAkvXhrLu9mrCtv_9_qLY\", sep=\",\")\n",
        "queries = list(queries_csv[\"Query\"])"
      ],
      "execution_count": 8,
      "outputs": []
    },
    {
      "cell_type": "code",
      "metadata": {
        "id": "KSGC8mBulplc"
      },
      "source": [
        "sentence_vectors = model.encode(sentences)\n",
        "query_embeddings = model.encode(queries)"
      ],
      "execution_count": 9,
      "outputs": []
    },
    {
      "cell_type": "markdown",
      "metadata": {
        "id": "Ez3ge2UR4jZn"
      },
      "source": [
        "#検証"
      ]
    },
    {
      "cell_type": "markdown",
      "metadata": {
        "id": "vHPyaN5X45DX"
      },
      "source": [
        "## cos類似度"
      ]
    },
    {
      "cell_type": "code",
      "metadata": {
        "id": "P8zOs718r1AQ",
        "outputId": "258df94a-e86f-421d-8c3b-116940eb5617",
        "colab": {
          "base_uri": "https://localhost:8080/",
          "height": 1000
        }
      },
      "source": [
        "import scipy.spatial\n",
        "import time\n",
        "\n",
        "closest_n = [1]\n",
        "\n",
        "start = time.time()\n",
        "for query, query_embedding in zip(queries, query_embeddings):\n",
        "    distances = scipy.spatial.distance.cdist([query_embedding], sentence_vectors, metric=\"cosine\")[0]\n",
        "\n",
        "    results = zip(range(len(distances)), distances)\n",
        "    results = sorted(results, key=lambda x: x[1])\n",
        "\n",
        "    print(\"\\n======================\\n\")\n",
        "    print(\"Query:\", query)\n",
        "\n",
        "    for i, (idx, distance) in enumerate(results[0:max(closest_n) + 1 ]):\n",
        "        if i + 1 in closest_n:\n",
        "            print(i + 1, sentences[idx].strip(), \"(Score: %.4f)\" % (1 - distance))\n",
        "\n",
        "elapsed_time = time.time() - start\n",
        "print(\"\\n\\n -------------------------------------------------------------\\n elapsed_time:{0}\".format(elapsed_time) + \"[sec]\")"
      ],
      "execution_count": 10,
      "outputs": [
        {
          "output_type": "stream",
          "text": [
            "\n",
            "======================\n",
            "\n",
            "Query: RobotDiverの操作方法について教えてください\n",
            "1 RobotDiverの利用方法について教えて下さい (Score: 0.8767)\n",
            "\n",
            "======================\n",
            "\n",
            "Query: どのように利用するのでしょう？\n",
            "1 RobotDiverはどのように利用するんですか？ (Score: 0.6096)\n",
            "\n",
            "======================\n",
            "\n",
            "Query: 何ができるのですか？\n",
            "1 Machine Leaningを利用すると予測ができるのでしょうか (Score: 0.6004)\n",
            "\n",
            "======================\n",
            "\n",
            "Query: マニュアルはありますか？\n",
            "1 利用するマニュアルは有りますか (Score: 0.9086)\n",
            "\n",
            "======================\n",
            "\n",
            "Query: TangoACとはどんなことができるのですか？\n",
            "1 TangoACについて知りたい (Score: 0.7564)\n",
            "\n",
            "======================\n",
            "\n",
            "Query: 動きません\n",
            "1 TangoACの結果が出ません (Score: 0.6120)\n",
            "\n",
            "======================\n",
            "\n",
            "Query: 動かん\n",
            "1 ウインドウズでも動かせますか (Score: 0.5284)\n",
            "\n",
            "======================\n",
            "\n",
            "Query: URLは？\n",
            "1 ロボットダイバーのURLを教えて下さい (Score: 0.4726)\n",
            "\n",
            "======================\n",
            "\n",
            "Query: 問い合わせは可能ですか？\n",
            "1 電話での問い合わせは可能ですか (Score: 0.7921)\n",
            "\n",
            "======================\n",
            "\n",
            "Query: メールでの問い合わせは出来ますか？\n",
            "1 メールでの問い合わせは可能ですか (Score: 0.9732)\n",
            "\n",
            "======================\n",
            "\n",
            "Query: アフターコーディングの機能はありますか？\n",
            "1 Machine Leaningを利用すると予測ができるのでしょうか (Score: 0.5088)\n",
            "\n",
            "======================\n",
            "\n",
            "Query: 動作環境\n",
            "1 RobotDiverの動作環境は何処かに記載されていますか (Score: 0.6359)\n",
            "\n",
            "======================\n",
            "\n",
            "Query: 推奨のブラウザは何？\n",
            "1 どのようなブラウザが利用できますか (Score: 0.8274)\n",
            "\n",
            "======================\n",
            "\n",
            "Query: Macでも利用できるんの？\n",
            "1 Macで動かすことは可能ですか (Score: 0.9235)\n",
            "\n",
            "======================\n",
            "\n",
            "Query: インストールは必要？\n",
            "1 ロボットダイバーはインストールが必要ですか (Score: 0.5900)\n",
            "\n",
            "\n",
            " -------------------------------------------------------------\n",
            " elapsed_time:0.02440333366394043[sec]\n"
          ],
          "name": "stdout"
        }
      ]
    },
    {
      "cell_type": "code",
      "metadata": {
        "id": "zvhzFaNnr9IE",
        "outputId": "acc9cc5f-3504-4b5b-876b-973bfe837439",
        "colab": {
          "base_uri": "https://localhost:8080/",
          "height": 99
        }
      },
      "source": [
        "!pip3 install faiss-cpu"
      ],
      "execution_count": 11,
      "outputs": [
        {
          "output_type": "stream",
          "text": [
            "Collecting faiss-cpu\n",
            "\u001b[?25l  Downloading https://files.pythonhosted.org/packages/0e/6b/51321f5b34507dc1cb2b17e02e740acacd4ac818ed4b66670c24dd71347b/faiss_cpu-1.6.4-cp36-cp36m-manylinux2014_x86_64.whl (7.9MB)\n",
            "\u001b[K     |████████████████████████████████| 7.9MB 3.6MB/s \n",
            "\u001b[?25hInstalling collected packages: faiss-cpu\n",
            "Successfully installed faiss-cpu-1.6.4\n"
          ],
          "name": "stdout"
        }
      ]
    },
    {
      "cell_type": "code",
      "metadata": {
        "id": "gqRpF4y6BRTl"
      },
      "source": [
        "import time\n",
        "import numpy as np\n",
        "import faiss\n",
        "d = 64                         # ベクトルの次元(dimension)\n",
        "nb = 1000000                    # データベースのサイズ(database size)\n",
        "nq = 100000                     # クエリベクトルの数(nb of queries)\n",
        "np.random.seed(1234)\n",
        "xb = np.random.random((nb, d)).astype('float32')\n",
        "xb[:, 0] += np.arange(nb) / 1000.\n",
        "xq = np.random.random((nq, d)).astype('float32')\n",
        "xq[:, 0] += np.arange(nq) / 1000."
      ],
      "execution_count": 12,
      "outputs": []
    },
    {
      "cell_type": "code",
      "metadata": {
        "id": "6s6l4DfQyaoe"
      },
      "source": [
        "index = faiss.IndexFlatL2(d)\n",
        "index.add(xb)"
      ],
      "execution_count": 14,
      "outputs": []
    },
    {
      "cell_type": "code",
      "metadata": {
        "id": "HiViLnoCycEI"
      },
      "source": [
        "k = 4\n",
        "D, I = index.search(xb[:5], k)"
      ],
      "execution_count": 17,
      "outputs": []
    },
    {
      "cell_type": "code",
      "metadata": {
        "id": "Ni_lM9AO9H4t"
      },
      "source": [
        "D, I = index.search(xq, k)"
      ],
      "execution_count": 19,
      "outputs": []
    },
    {
      "cell_type": "code",
      "metadata": {
        "id": "k5z9Z-KA9LMV",
        "outputId": "a1e92455-1768-4e7c-9fa8-ee46f77027ce",
        "colab": {
          "base_uri": "https://localhost:8080/",
          "height": 181
        }
      },
      "source": [
        "print(I)\n",
        "print(D)"
      ],
      "execution_count": 18,
      "outputs": [
        {
          "output_type": "stream",
          "text": [
            "[[  0 393 363  78]\n",
            " [  1 555 277 364]\n",
            " [  2 304 101  13]\n",
            " [  3 173  18 182]\n",
            " [  4 288 370 531]]\n",
            "[[0.        7.175174  7.2076287 7.251163 ]\n",
            " [0.        6.323565  6.684582  6.799944 ]\n",
            " [0.        5.7964087 6.3917365 7.2815127]\n",
            " [0.        7.277905  7.5279875 7.6628447]\n",
            " [0.        6.763804  7.295122  7.368814 ]]\n"
          ],
          "name": "stdout"
        }
      ]
    },
    {
      "cell_type": "code",
      "metadata": {
        "id": "BxnxrCau92RS"
      },
      "source": [
        ""
      ],
      "execution_count": null,
      "outputs": []
    }
  ]
}